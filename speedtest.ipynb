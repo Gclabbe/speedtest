{
 "cells": [
  {
   "cell_type": "code",
   "execution_count": null,
   "id": "a0f72134-cfa9-49aa-9ae7-2aacd2b292ff",
   "metadata": {
    "is_executing": true
   },
   "outputs": [],
   "source": [
    "# standard libraries\n",
    "# import os\n",
    "import datetime as dt\n",
    "import time\n",
    "\n",
    "from typing import Dict, List, Optional\n",
    "\n",
    "# external tools\n",
    "from IPython.display import clear_output\n",
    "import pandas as pd\n",
    "import plotly.express as px\n",
    "from rich import print\n",
    "import speedtest\n"
   ]
  },
  {
   "cell_type": "code",
   "execution_count": null,
   "id": "5687b2db-a4c5-4c88-a167-0b55e2aa6005",
   "metadata": {},
   "outputs": [],
   "source": [
    "output_file = \"test.csv\"\n",
    "history_file = \"history.csv\"\n"
   ]
  },
  {
   "cell_type": "code",
   "execution_count": null,
   "id": "2d58f22b1f1e1508",
   "metadata": {
    "collapsed": false
   },
   "outputs": [],
   "source": [
    "def convert_results_to_dataframe(results: Dict) -> pd.DataFrame:\n",
    "    \"\"\"\n",
    "    Convert the dict results from a speedtest object into a dataframe\n",
    "\n",
    "    :param results: dictionary of results and stats from a speedtest\n",
    "    :type results: Dict\n",
    "    :return: dataframe of results from selective fields\n",
    "    \"\"\"\n",
    "    results_df = pd.DataFrame.from_dict(\n",
    "        {\n",
    "            'server_name': [results['server']['name']],\n",
    "            'server_id': [results['server']['id']],\n",
    "            'download': [round(results['download'], 0)],\n",
    "            'upload': [round(results['upload'], 0)],\n",
    "            'ping': [round(results['ping'], 1)],\n",
    "            'server_url': [results['server']['url']],\n",
    "            'timestamp': [results['timestamp']],\n",
    "        },\n",
    "    )\n",
    "    \n",
    "    return results_df\n",
    "\n",
    "\n",
    "def run_speedtest(\n",
    "    direction: Optional[List[str]] = None,\n",
    "    threads: Optional[int] = None,\n",
    "    server_list: Optional[List[int]] = None,\n",
    ") -> speedtest.Speedtest:\n",
    "    \"\"\"\n",
    "    Run a speedtest and return the results as a dataframe\n",
    "    \n",
    "    :param speedtest_obj: \n",
    "    :type speedtest_obj: speedtest.Speedtest\n",
    "    :param direction: choose from 'up', 'down', or 'both'\n",
    "    :type direction: str defaults to 'both'\n",
    "    :param threads: number of threads to use\n",
    "    :type threads: int defaults to None\n",
    "    :param server_list \n",
    "    :type server_list: Optional[List[int]] defaults to None\n",
    "    :rtype: speedtest.Speedtest\n",
    "    \"\"\"\n",
    "    speedtest_obj = speedtest.Speedtest()\n",
    "    direction = direction or ['down', 'up']\n",
    "    servers = server_list or []\n",
    "\n",
    "    print(f\"Getting best server from {'all servers' if isinstance(servers, list) else servers}\")\n",
    "    speedtest_obj.get_servers(servers)\n",
    "    speedtest_obj.get_best_server()\n",
    "    \n",
    "    for this_direction in direction:\n",
    "        if this_direction not in ['down', 'up']:\n",
    "            raise ValueError(f\"direction must be down or up, not {this_direction}\")\n",
    "        if this_direction == \"down\":\n",
    "            print(\"Running download test\")\n",
    "            speedtest_obj.download(threads=threads)\n",
    "\n",
    "        if this_direction == \"up\":\n",
    "            print(\"Running upload test\")\n",
    "            speedtest_obj.upload(threads=threads)\n",
    "\n",
    "    return speedtest_obj\n",
    "\n",
    "\n",
    "def show_updated_speed(history_df: pd.DataFrame) -> None:\n",
    "    \"\"\"\n",
    "    Show the updated speed test results using Plotly Express\n",
    "    \n",
    "    :param history_df: dataframe of historical speed test results\n",
    "    :type history_df: pd.DataFrame\n",
    "    :return: None\n",
    "    \"\"\"\n",
    "    \n",
    "    download_df = history_df[['timestamp', 'download']].rename({'download': 'mbps'}, axis=1)\n",
    "    download_df[\"type\"] = \"down\"\n",
    "    \n",
    "    upload_df = history_df[['timestamp', 'upload']].rename({'upload': 'mbps'}, axis=1)\n",
    "    upload_df[\"type\"] = \"up\"\n",
    "    \n",
    "    plot_df = pd.concat([download_df, upload_df], axis=0)\n",
    "    \n",
    "    # convert from MBps to Mbps (2nd one is what everyone tells you you're getting)\n",
    "    # plot_df.loc[:, 'mbps'] *= 8 / 1e6\n",
    "    \n",
    "    fig = px.line(plot_df, x='timestamp', y='mbps', color='type')\n",
    "    fig.show()\n",
    "    \n",
    "    print(history_df[['download', 'upload']].describe())\n",
    "\n",
    "    return None"
   ]
  },
  {
   "cell_type": "code",
   "execution_count": null,
   "id": "97f4e597-dceb-493b-9ed1-3c0c51207428",
   "metadata": {
    "tags": []
   },
   "outputs": [],
   "source": [
    "# If you want to test against a specific set of servers\n",
    "# servers = [1234, 5678, 9012]\n",
    "# None will automatically pick the best server from all available\n",
    "# You can view this list by running s.get_servers() (see below)\n",
    "servers = None\n",
    "\n",
    "# If you want to use a single threaded test\n",
    "# threads = 1\n",
    "threads = None\n",
    "\n",
    "history_df = pd.read_csv(f\"data\\{history_file}\")\n",
    "\n",
    "# delay between testing runs\n",
    "wait = 0.5  # min\n",
    "\n",
    "loops = 10"
   ]
  },
  {
   "cell_type": "code",
   "execution_count": null,
   "id": "972b85f8-e774-4c28-8808-278ebbeedcf1",
   "metadata": {
    "tags": []
   },
   "outputs": [],
   "source": [
    "for i in range(loops):\n",
    "    start = time.time()\n",
    "    print(f\"{i+1}: {dt.datetime.now()}\")\n",
    "\n",
    "    s = run_speedtest(threads=threads, server_list=servers)\n",
    "    data_df = convert_results_to_dataframe(s.results.dict())\n",
    "    history_df = pd.concat([history_df, data_df], axis=0)\n",
    "\n",
    "    history_df.to_csv(f\"data\\{history_file}\", index=False)\n",
    "   \n",
    "    if i < loops:\n",
    "        # s.results.share()  # generates a link to the results.  Doesn't seem to be working in Jupyter\n",
    "        end = time.time()\n",
    "        print(f\"{i+1}/{loops} -- Waiting for {wait*60} seconds\")\n",
    "        time.sleep(wait * 60)\n",
    "        clear_output(wait=False)\n",
    "\n",
    "print(\"Done\")"
   ]
  },
  {
   "cell_type": "markdown",
   "id": "4fdd154f-04fb-448f-ae35-d65d0c9968ec",
   "metadata": {},
   "source": [
    "### Rechart"
   ]
  },
  {
   "cell_type": "code",
   "execution_count": null,
   "id": "61ca9d7f-49a6-4006-a87d-f24aeceef07e",
   "metadata": {},
   "outputs": [],
   "source": [
    "show_updated_speed(history_df)"
   ]
  },
  {
   "cell_type": "code",
   "execution_count": null,
   "id": "2a7025c4-ed0d-45e7-8172-25b856ca2b75",
   "metadata": {},
   "outputs": [],
   "source": [
    "history_df.head()"
   ]
  },
  {
   "cell_type": "code",
   "execution_count": null,
   "id": "94c5db6d-fe4a-495f-ab6b-efce925a9a5c",
   "metadata": {},
   "outputs": [],
   "source": [
    "s = speedtest.Speedtest()\n",
    "s.get_servers()"
   ]
  },
  {
   "cell_type": "code",
   "execution_count": null,
   "id": "66e12c76-e2d6-413b-b2b2-9f9e44802e8f",
   "metadata": {},
   "outputs": [],
   "source": [
    "print(s.results)"
   ]
  }
 ],
 "metadata": {
  "kernelspec": {
   "display_name": "Python 3 (ipykernel)",
   "language": "python",
   "name": "python3"
  },
  "language_info": {
   "codemirror_mode": {
    "name": "ipython",
    "version": 3
   },
   "file_extension": ".py",
   "mimetype": "text/x-python",
   "name": "python",
   "nbconvert_exporter": "python",
   "pygments_lexer": "ipython3",
   "version": "3.10.13"
  }
 },
 "nbformat": 4,
 "nbformat_minor": 5
}
