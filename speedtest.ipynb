{
 "cells": [
  {
   "cell_type": "code",
   "execution_count": 1,
   "id": "a0f72134-cfa9-49aa-9ae7-2aacd2b292ff",
   "metadata": {},
   "outputs": [],
   "source": [
    "import pandas as pd\n",
    "import numpy as np\n",
    "import os\n",
    "import datetime as dt\n",
    "import time\n",
    "\n",
    "from IPython.display import clear_output\n",
    "import plotly.express as px"
   ]
  },
  {
   "cell_type": "code",
   "execution_count": 2,
   "id": "14e6b53e",
   "metadata": {},
   "outputs": [],
   "source": [
    "# os.listdir()"
   ]
  },
  {
   "cell_type": "code",
   "execution_count": 3,
   "id": "5687b2db-a4c5-4c88-a167-0b55e2aa6005",
   "metadata": {},
   "outputs": [],
   "source": [
    "# directory = os.listdir()[1]\n",
    "filename = \"speedtest\"  # .exe\"\n",
    "output_file = \"test.csv\"\n",
    "options = f\"--output-header -f csv > {output_file}\"\n"
   ]
  },
  {
   "cell_type": "code",
   "execution_count": null,
   "id": "05d0c21b-6222-4d80-beda-11e5f54a57c5",
   "metadata": {
    "jupyter": {
     "source_hidden": true
    },
    "tags": []
   },
   "outputs": [
    {
     "name": "stdout",
     "output_type": "stream",
     "text": [
      "4 2022-04-21 20:04:47.982782\n",
      "Testing\n"
     ]
    },
    {
     "data": {
      "application/vnd.plotly.v1+json": {
       "config": {
        "plotlyServerURL": "https://plot.ly"
       },
       "data": [
        {
         "hovertemplate": "type=down<br>date=%{x}<br>mbps=%{y}<extra></extra>",
         "legendgroup": "down",
         "line": {
          "color": "#636efa",
          "dash": "solid"
         },
         "marker": {
          "symbol": "circle"
         },
         "mode": "lines",
         "name": "down",
         "orientation": "v",
         "showlegend": true,
         "type": "scatter",
         "x": [
          "2022-04-21 16:44:31.886435",
          "2022-04-21 16:45:55.021462",
          "2022-04-21 16:47:22.082209",
          "2022-04-21 16:48:38.429094",
          "2022-04-21 16:50:04.215517",
          "2022-04-21 16:57:30.617366",
          "2022-04-21 16:58:36.845839",
          "2022-04-21 16:59:52.624124",
          "2022-04-21 17:01:14.079980",
          "2022-04-21 17:02:31.703322",
          "2022-04-21 17:03:54.107655",
          "2022-04-21 17:12:55.431671",
          "2022-04-21 17:18:10.846326",
          "2022-04-21 17:23:34.610470",
          "2022-04-21 17:28:59.207902",
          "2022-04-21 17:34:19.496884",
          "2022-04-21 17:39:51.755448",
          "2022-04-21 17:45:17.262625",
          "2022-04-21 17:50:42.872271",
          "2022-04-21 17:56:09.295449",
          "2022-04-21 18:01:40.777511",
          "2022-04-21 18:13:43.751302",
          "2022-04-21 18:24:55.784563",
          "2022-04-21 18:30:24.139244",
          "2022-04-21 18:35:51.800874",
          "2022-04-21 18:41:18.485850",
          "2022-04-21 18:46:40.592106",
          "2022-04-21 18:54:42.894399",
          "2022-04-21 19:12:34.280367",
          "2022-04-21 19:18:01.558095",
          "2022-04-21 19:23:39.518650",
          "2022-04-21 19:29:05.933641",
          "2022-04-21T19:48:49.934391",
          "2022-04-21T19:54:16.621757",
          "2022-04-21T19:59:47.920376",
          "2022-04-21T20:05:19.466124"
         ],
         "xaxis": "x",
         "y": [
          183.39395199999998,
          185.869016,
          208.730064,
          168.346816,
          174.47503999999998,
          174.937728,
          181.494016,
          177.825168,
          225.28365599999998,
          186.392192,
          203.961872,
          180.655048,
          181.78780799999998,
          203.49348799999999,
          187.757136,
          183.501712,
          184.533128,
          252.66996799999998,
          274.011728,
          276.19888,
          291.33968,
          178.443768,
          230.69940799999998,
          168.587056,
          115.40573599999999,
          151.988512,
          154.93077599999998,
          255.71514399999998,
          98.075864,
          364.30248,
          278.858504,
          279.77064,
          303.145544,
          169.801976,
          247.71292,
          204.37575999999999
         ],
         "yaxis": "y"
        },
        {
         "hovertemplate": "type=up<br>date=%{x}<br>mbps=%{y}<extra></extra>",
         "legendgroup": "up",
         "line": {
          "color": "#EF553B",
          "dash": "solid"
         },
         "marker": {
          "symbol": "circle"
         },
         "mode": "lines",
         "name": "up",
         "orientation": "v",
         "showlegend": true,
         "type": "scatter",
         "x": [
          "2022-04-21 16:44:31.886435",
          "2022-04-21 16:45:55.021462",
          "2022-04-21 16:47:22.082209",
          "2022-04-21 16:48:38.429094",
          "2022-04-21 16:50:04.215517",
          "2022-04-21 16:57:30.617366",
          "2022-04-21 16:58:36.845839",
          "2022-04-21 16:59:52.624124",
          "2022-04-21 17:01:14.079980",
          "2022-04-21 17:02:31.703322",
          "2022-04-21 17:03:54.107655",
          "2022-04-21 17:12:55.431671",
          "2022-04-21 17:18:10.846326",
          "2022-04-21 17:23:34.610470",
          "2022-04-21 17:28:59.207902",
          "2022-04-21 17:34:19.496884",
          "2022-04-21 17:39:51.755448",
          "2022-04-21 17:45:17.262625",
          "2022-04-21 17:50:42.872271",
          "2022-04-21 17:56:09.295449",
          "2022-04-21 18:01:40.777511",
          "2022-04-21 18:13:43.751302",
          "2022-04-21 18:24:55.784563",
          "2022-04-21 18:30:24.139244",
          "2022-04-21 18:35:51.800874",
          "2022-04-21 18:41:18.485850",
          "2022-04-21 18:46:40.592106",
          "2022-04-21 18:54:42.894399",
          "2022-04-21 19:12:34.280367",
          "2022-04-21 19:18:01.558095",
          "2022-04-21 19:23:39.518650",
          "2022-04-21 19:29:05.933641",
          "2022-04-21T19:48:49.934391",
          "2022-04-21T19:54:16.621757",
          "2022-04-21T19:59:47.920376",
          "2022-04-21T20:05:19.466124"
         ],
         "xaxis": "x",
         "y": [
          30.573736,
          29.397599999999997,
          28.336608,
          28.316208,
          29.444504,
          28.6036,
          29.403399999999998,
          29.171376,
          30.359399999999997,
          25.889136,
          29.955944,
          30.232688,
          31.217536,
          29.440583999999998,
          29.187488,
          30.306759999999997,
          26.411544,
          32.858128,
          40.2542,
          41.239416,
          40.298944,
          31.824071999999997,
          38.05,
          38.983608,
          35.764472,
          38.20888,
          36.627128,
          25.310015999999997,
          17.873296,
          37.846095999999996,
          40.695512,
          38.897048,
          41.345183999999996,
          41.001999999999995,
          38.77952,
          40.568695999999996
         ],
         "yaxis": "y"
        }
       ],
       "layout": {
        "legend": {
         "title": {
          "text": "type"
         },
         "tracegroupgap": 0
        },
        "margin": {
         "t": 60
        },
        "template": {
         "data": {
          "bar": [
           {
            "error_x": {
             "color": "#2a3f5f"
            },
            "error_y": {
             "color": "#2a3f5f"
            },
            "marker": {
             "line": {
              "color": "#E5ECF6",
              "width": 0.5
             },
             "pattern": {
              "fillmode": "overlay",
              "size": 10,
              "solidity": 0.2
             }
            },
            "type": "bar"
           }
          ],
          "barpolar": [
           {
            "marker": {
             "line": {
              "color": "#E5ECF6",
              "width": 0.5
             },
             "pattern": {
              "fillmode": "overlay",
              "size": 10,
              "solidity": 0.2
             }
            },
            "type": "barpolar"
           }
          ],
          "carpet": [
           {
            "aaxis": {
             "endlinecolor": "#2a3f5f",
             "gridcolor": "white",
             "linecolor": "white",
             "minorgridcolor": "white",
             "startlinecolor": "#2a3f5f"
            },
            "baxis": {
             "endlinecolor": "#2a3f5f",
             "gridcolor": "white",
             "linecolor": "white",
             "minorgridcolor": "white",
             "startlinecolor": "#2a3f5f"
            },
            "type": "carpet"
           }
          ],
          "choropleth": [
           {
            "colorbar": {
             "outlinewidth": 0,
             "ticks": ""
            },
            "type": "choropleth"
           }
          ],
          "contour": [
           {
            "colorbar": {
             "outlinewidth": 0,
             "ticks": ""
            },
            "colorscale": [
             [
              0,
              "#0d0887"
             ],
             [
              0.1111111111111111,
              "#46039f"
             ],
             [
              0.2222222222222222,
              "#7201a8"
             ],
             [
              0.3333333333333333,
              "#9c179e"
             ],
             [
              0.4444444444444444,
              "#bd3786"
             ],
             [
              0.5555555555555556,
              "#d8576b"
             ],
             [
              0.6666666666666666,
              "#ed7953"
             ],
             [
              0.7777777777777778,
              "#fb9f3a"
             ],
             [
              0.8888888888888888,
              "#fdca26"
             ],
             [
              1,
              "#f0f921"
             ]
            ],
            "type": "contour"
           }
          ],
          "contourcarpet": [
           {
            "colorbar": {
             "outlinewidth": 0,
             "ticks": ""
            },
            "type": "contourcarpet"
           }
          ],
          "heatmap": [
           {
            "colorbar": {
             "outlinewidth": 0,
             "ticks": ""
            },
            "colorscale": [
             [
              0,
              "#0d0887"
             ],
             [
              0.1111111111111111,
              "#46039f"
             ],
             [
              0.2222222222222222,
              "#7201a8"
             ],
             [
              0.3333333333333333,
              "#9c179e"
             ],
             [
              0.4444444444444444,
              "#bd3786"
             ],
             [
              0.5555555555555556,
              "#d8576b"
             ],
             [
              0.6666666666666666,
              "#ed7953"
             ],
             [
              0.7777777777777778,
              "#fb9f3a"
             ],
             [
              0.8888888888888888,
              "#fdca26"
             ],
             [
              1,
              "#f0f921"
             ]
            ],
            "type": "heatmap"
           }
          ],
          "heatmapgl": [
           {
            "colorbar": {
             "outlinewidth": 0,
             "ticks": ""
            },
            "colorscale": [
             [
              0,
              "#0d0887"
             ],
             [
              0.1111111111111111,
              "#46039f"
             ],
             [
              0.2222222222222222,
              "#7201a8"
             ],
             [
              0.3333333333333333,
              "#9c179e"
             ],
             [
              0.4444444444444444,
              "#bd3786"
             ],
             [
              0.5555555555555556,
              "#d8576b"
             ],
             [
              0.6666666666666666,
              "#ed7953"
             ],
             [
              0.7777777777777778,
              "#fb9f3a"
             ],
             [
              0.8888888888888888,
              "#fdca26"
             ],
             [
              1,
              "#f0f921"
             ]
            ],
            "type": "heatmapgl"
           }
          ],
          "histogram": [
           {
            "marker": {
             "pattern": {
              "fillmode": "overlay",
              "size": 10,
              "solidity": 0.2
             }
            },
            "type": "histogram"
           }
          ],
          "histogram2d": [
           {
            "colorbar": {
             "outlinewidth": 0,
             "ticks": ""
            },
            "colorscale": [
             [
              0,
              "#0d0887"
             ],
             [
              0.1111111111111111,
              "#46039f"
             ],
             [
              0.2222222222222222,
              "#7201a8"
             ],
             [
              0.3333333333333333,
              "#9c179e"
             ],
             [
              0.4444444444444444,
              "#bd3786"
             ],
             [
              0.5555555555555556,
              "#d8576b"
             ],
             [
              0.6666666666666666,
              "#ed7953"
             ],
             [
              0.7777777777777778,
              "#fb9f3a"
             ],
             [
              0.8888888888888888,
              "#fdca26"
             ],
             [
              1,
              "#f0f921"
             ]
            ],
            "type": "histogram2d"
           }
          ],
          "histogram2dcontour": [
           {
            "colorbar": {
             "outlinewidth": 0,
             "ticks": ""
            },
            "colorscale": [
             [
              0,
              "#0d0887"
             ],
             [
              0.1111111111111111,
              "#46039f"
             ],
             [
              0.2222222222222222,
              "#7201a8"
             ],
             [
              0.3333333333333333,
              "#9c179e"
             ],
             [
              0.4444444444444444,
              "#bd3786"
             ],
             [
              0.5555555555555556,
              "#d8576b"
             ],
             [
              0.6666666666666666,
              "#ed7953"
             ],
             [
              0.7777777777777778,
              "#fb9f3a"
             ],
             [
              0.8888888888888888,
              "#fdca26"
             ],
             [
              1,
              "#f0f921"
             ]
            ],
            "type": "histogram2dcontour"
           }
          ],
          "mesh3d": [
           {
            "colorbar": {
             "outlinewidth": 0,
             "ticks": ""
            },
            "type": "mesh3d"
           }
          ],
          "parcoords": [
           {
            "line": {
             "colorbar": {
              "outlinewidth": 0,
              "ticks": ""
             }
            },
            "type": "parcoords"
           }
          ],
          "pie": [
           {
            "automargin": true,
            "type": "pie"
           }
          ],
          "scatter": [
           {
            "marker": {
             "colorbar": {
              "outlinewidth": 0,
              "ticks": ""
             }
            },
            "type": "scatter"
           }
          ],
          "scatter3d": [
           {
            "line": {
             "colorbar": {
              "outlinewidth": 0,
              "ticks": ""
             }
            },
            "marker": {
             "colorbar": {
              "outlinewidth": 0,
              "ticks": ""
             }
            },
            "type": "scatter3d"
           }
          ],
          "scattercarpet": [
           {
            "marker": {
             "colorbar": {
              "outlinewidth": 0,
              "ticks": ""
             }
            },
            "type": "scattercarpet"
           }
          ],
          "scattergeo": [
           {
            "marker": {
             "colorbar": {
              "outlinewidth": 0,
              "ticks": ""
             }
            },
            "type": "scattergeo"
           }
          ],
          "scattergl": [
           {
            "marker": {
             "colorbar": {
              "outlinewidth": 0,
              "ticks": ""
             }
            },
            "type": "scattergl"
           }
          ],
          "scattermapbox": [
           {
            "marker": {
             "colorbar": {
              "outlinewidth": 0,
              "ticks": ""
             }
            },
            "type": "scattermapbox"
           }
          ],
          "scatterpolar": [
           {
            "marker": {
             "colorbar": {
              "outlinewidth": 0,
              "ticks": ""
             }
            },
            "type": "scatterpolar"
           }
          ],
          "scatterpolargl": [
           {
            "marker": {
             "colorbar": {
              "outlinewidth": 0,
              "ticks": ""
             }
            },
            "type": "scatterpolargl"
           }
          ],
          "scatterternary": [
           {
            "marker": {
             "colorbar": {
              "outlinewidth": 0,
              "ticks": ""
             }
            },
            "type": "scatterternary"
           }
          ],
          "surface": [
           {
            "colorbar": {
             "outlinewidth": 0,
             "ticks": ""
            },
            "colorscale": [
             [
              0,
              "#0d0887"
             ],
             [
              0.1111111111111111,
              "#46039f"
             ],
             [
              0.2222222222222222,
              "#7201a8"
             ],
             [
              0.3333333333333333,
              "#9c179e"
             ],
             [
              0.4444444444444444,
              "#bd3786"
             ],
             [
              0.5555555555555556,
              "#d8576b"
             ],
             [
              0.6666666666666666,
              "#ed7953"
             ],
             [
              0.7777777777777778,
              "#fb9f3a"
             ],
             [
              0.8888888888888888,
              "#fdca26"
             ],
             [
              1,
              "#f0f921"
             ]
            ],
            "type": "surface"
           }
          ],
          "table": [
           {
            "cells": {
             "fill": {
              "color": "#EBF0F8"
             },
             "line": {
              "color": "white"
             }
            },
            "header": {
             "fill": {
              "color": "#C8D4E3"
             },
             "line": {
              "color": "white"
             }
            },
            "type": "table"
           }
          ]
         },
         "layout": {
          "annotationdefaults": {
           "arrowcolor": "#2a3f5f",
           "arrowhead": 0,
           "arrowwidth": 1
          },
          "autotypenumbers": "strict",
          "coloraxis": {
           "colorbar": {
            "outlinewidth": 0,
            "ticks": ""
           }
          },
          "colorscale": {
           "diverging": [
            [
             0,
             "#8e0152"
            ],
            [
             0.1,
             "#c51b7d"
            ],
            [
             0.2,
             "#de77ae"
            ],
            [
             0.3,
             "#f1b6da"
            ],
            [
             0.4,
             "#fde0ef"
            ],
            [
             0.5,
             "#f7f7f7"
            ],
            [
             0.6,
             "#e6f5d0"
            ],
            [
             0.7,
             "#b8e186"
            ],
            [
             0.8,
             "#7fbc41"
            ],
            [
             0.9,
             "#4d9221"
            ],
            [
             1,
             "#276419"
            ]
           ],
           "sequential": [
            [
             0,
             "#0d0887"
            ],
            [
             0.1111111111111111,
             "#46039f"
            ],
            [
             0.2222222222222222,
             "#7201a8"
            ],
            [
             0.3333333333333333,
             "#9c179e"
            ],
            [
             0.4444444444444444,
             "#bd3786"
            ],
            [
             0.5555555555555556,
             "#d8576b"
            ],
            [
             0.6666666666666666,
             "#ed7953"
            ],
            [
             0.7777777777777778,
             "#fb9f3a"
            ],
            [
             0.8888888888888888,
             "#fdca26"
            ],
            [
             1,
             "#f0f921"
            ]
           ],
           "sequentialminus": [
            [
             0,
             "#0d0887"
            ],
            [
             0.1111111111111111,
             "#46039f"
            ],
            [
             0.2222222222222222,
             "#7201a8"
            ],
            [
             0.3333333333333333,
             "#9c179e"
            ],
            [
             0.4444444444444444,
             "#bd3786"
            ],
            [
             0.5555555555555556,
             "#d8576b"
            ],
            [
             0.6666666666666666,
             "#ed7953"
            ],
            [
             0.7777777777777778,
             "#fb9f3a"
            ],
            [
             0.8888888888888888,
             "#fdca26"
            ],
            [
             1,
             "#f0f921"
            ]
           ]
          },
          "colorway": [
           "#636efa",
           "#EF553B",
           "#00cc96",
           "#ab63fa",
           "#FFA15A",
           "#19d3f3",
           "#FF6692",
           "#B6E880",
           "#FF97FF",
           "#FECB52"
          ],
          "font": {
           "color": "#2a3f5f"
          },
          "geo": {
           "bgcolor": "white",
           "lakecolor": "white",
           "landcolor": "#E5ECF6",
           "showlakes": true,
           "showland": true,
           "subunitcolor": "white"
          },
          "hoverlabel": {
           "align": "left"
          },
          "hovermode": "closest",
          "mapbox": {
           "style": "light"
          },
          "paper_bgcolor": "white",
          "plot_bgcolor": "#E5ECF6",
          "polar": {
           "angularaxis": {
            "gridcolor": "white",
            "linecolor": "white",
            "ticks": ""
           },
           "bgcolor": "#E5ECF6",
           "radialaxis": {
            "gridcolor": "white",
            "linecolor": "white",
            "ticks": ""
           }
          },
          "scene": {
           "xaxis": {
            "backgroundcolor": "#E5ECF6",
            "gridcolor": "white",
            "gridwidth": 2,
            "linecolor": "white",
            "showbackground": true,
            "ticks": "",
            "zerolinecolor": "white"
           },
           "yaxis": {
            "backgroundcolor": "#E5ECF6",
            "gridcolor": "white",
            "gridwidth": 2,
            "linecolor": "white",
            "showbackground": true,
            "ticks": "",
            "zerolinecolor": "white"
           },
           "zaxis": {
            "backgroundcolor": "#E5ECF6",
            "gridcolor": "white",
            "gridwidth": 2,
            "linecolor": "white",
            "showbackground": true,
            "ticks": "",
            "zerolinecolor": "white"
           }
          },
          "shapedefaults": {
           "line": {
            "color": "#2a3f5f"
           }
          },
          "ternary": {
           "aaxis": {
            "gridcolor": "white",
            "linecolor": "white",
            "ticks": ""
           },
           "baxis": {
            "gridcolor": "white",
            "linecolor": "white",
            "ticks": ""
           },
           "bgcolor": "#E5ECF6",
           "caxis": {
            "gridcolor": "white",
            "linecolor": "white",
            "ticks": ""
           }
          },
          "title": {
           "x": 0.05
          },
          "xaxis": {
           "automargin": true,
           "gridcolor": "white",
           "linecolor": "white",
           "ticks": "",
           "title": {
            "standoff": 15
           },
           "zerolinecolor": "white",
           "zerolinewidth": 2
          },
          "yaxis": {
           "automargin": true,
           "gridcolor": "white",
           "linecolor": "white",
           "ticks": "",
           "title": {
            "standoff": 15
           },
           "zerolinecolor": "white",
           "zerolinewidth": 2
          }
         }
        },
        "xaxis": {
         "anchor": "y",
         "autorange": true,
         "domain": [
          0,
          1
         ],
         "range": [
          "2022-04-21 16:44:31.8864",
          "2022-04-21 20:05:19.4661"
         ],
         "title": {
          "text": "date"
         },
         "type": "date"
        },
        "yaxis": {
         "anchor": "x",
         "autorange": true,
         "domain": [
          0,
          1
         ],
         "range": [
          -1.3727697777777799,
          383.5485457777778
         ],
         "title": {
          "text": "mbps"
         },
         "type": "linear"
        }
       }
      },
      "image/png": "[encoded data removed]",
      "text/html": [
       "<div>                            <div id=\"3515f873-0899-42c9-aaff-0e3ecf199c8d\" class=\"plotly-graph-div\" style=\"height:525px; width:100%;\"></div>            <script type=\"text/javascript\">                require([\"plotly\"], function(Plotly) {                    window.PLOTLYENV=window.PLOTLYENV || {};                                    if (document.getElementById(\"3515f873-0899-42c9-aaff-0e3ecf199c8d\")) {                    Plotly.newPlot(                        \"3515f873-0899-42c9-aaff-0e3ecf199c8d\",                        [{\"hovertemplate\":\"type=down<br>date=%{x}<br>mbps=%{y}<extra></extra>\",\"legendgroup\":\"down\",\"line\":{\"color\":\"#636efa\",\"dash\":\"solid\"},\"marker\":{\"symbol\":\"circle\"},\"mode\":\"lines\",\"name\":\"down\",\"orientation\":\"v\",\"showlegend\":true,\"x\":[\"2022-04-21 16:44:31.886435\",\"2022-04-21 16:45:55.021462\",\"2022-04-21 16:47:22.082209\",\"2022-04-21 16:48:38.429094\",\"2022-04-21 16:50:04.215517\",\"2022-04-21 16:57:30.617366\",\"2022-04-21 16:58:36.845839\",\"2022-04-21 16:59:52.624124\",\"2022-04-21 17:01:14.079980\",\"2022-04-21 17:02:31.703322\",\"2022-04-21 17:03:54.107655\",\"2022-04-21 17:12:55.431671\",\"2022-04-21 17:18:10.846326\",\"2022-04-21 17:23:34.610470\",\"2022-04-21 17:28:59.207902\",\"2022-04-21 17:34:19.496884\",\"2022-04-21 17:39:51.755448\",\"2022-04-21 17:45:17.262625\",\"2022-04-21 17:50:42.872271\",\"2022-04-21 17:56:09.295449\",\"2022-04-21 18:01:40.777511\",\"2022-04-21 18:13:43.751302\",\"2022-04-21 18:24:55.784563\",\"2022-04-21 18:30:24.139244\",\"2022-04-21 18:35:51.800874\",\"2022-04-21 18:41:18.485850\",\"2022-04-21 18:46:40.592106\",\"2022-04-21 18:54:42.894399\",\"2022-04-21 19:12:34.280367\",\"2022-04-21 19:18:01.558095\",\"2022-04-21 19:23:39.518650\",\"2022-04-21 19:29:05.933641\",\"2022-04-21T19:48:49.934391\",\"2022-04-21T19:54:16.621757\",\"2022-04-21T19:59:47.920376\",\"2022-04-21T20:05:19.466124\"],\"xaxis\":\"x\",\"y\":[183.39395199999998,185.869016,208.730064,168.346816,174.47503999999998,174.937728,181.494016,177.825168,225.28365599999998,186.392192,203.961872,180.655048,181.78780799999998,203.49348799999999,187.757136,183.501712,184.533128,252.66996799999998,274.011728,276.19888,291.33968,178.443768,230.69940799999998,168.587056,115.40573599999999,151.988512,154.93077599999998,255.71514399999998,98.075864,364.30248,278.858504,279.77064,303.145544,169.801976,247.71292,204.37575999999999],\"yaxis\":\"y\",\"type\":\"scatter\"},{\"hovertemplate\":\"type=up<br>date=%{x}<br>mbps=%{y}<extra></extra>\",\"legendgroup\":\"up\",\"line\":{\"color\":\"#EF553B\",\"dash\":\"solid\"},\"marker\":{\"symbol\":\"circle\"},\"mode\":\"lines\",\"name\":\"up\",\"orientation\":\"v\",\"showlegend\":true,\"x\":[\"2022-04-21 16:44:31.886435\",\"2022-04-21 16:45:55.021462\",\"2022-04-21 16:47:22.082209\",\"2022-04-21 16:48:38.429094\",\"2022-04-21 16:50:04.215517\",\"2022-04-21 16:57:30.617366\",\"2022-04-21 16:58:36.845839\",\"2022-04-21 16:59:52.624124\",\"2022-04-21 17:01:14.079980\",\"2022-04-21 17:02:31.703322\",\"2022-04-21 17:03:54.107655\",\"2022-04-21 17:12:55.431671\",\"2022-04-21 17:18:10.846326\",\"2022-04-21 17:23:34.610470\",\"2022-04-21 17:28:59.207902\",\"2022-04-21 17:34:19.496884\",\"2022-04-21 17:39:51.755448\",\"2022-04-21 17:45:17.262625\",\"2022-04-21 17:50:42.872271\",\"2022-04-21 17:56:09.295449\",\"2022-04-21 18:01:40.777511\",\"2022-04-21 18:13:43.751302\",\"2022-04-21 18:24:55.784563\",\"2022-04-21 18:30:24.139244\",\"2022-04-21 18:35:51.800874\",\"2022-04-21 18:41:18.485850\",\"2022-04-21 18:46:40.592106\",\"2022-04-21 18:54:42.894399\",\"2022-04-21 19:12:34.280367\",\"2022-04-21 19:18:01.558095\",\"2022-04-21 19:23:39.518650\",\"2022-04-21 19:29:05.933641\",\"2022-04-21T19:48:49.934391\",\"2022-04-21T19:54:16.621757\",\"2022-04-21T19:59:47.920376\",\"2022-04-21T20:05:19.466124\"],\"xaxis\":\"x\",\"y\":[30.573736,29.397599999999997,28.336608,28.316208,29.444504,28.6036,29.403399999999998,29.171376,30.359399999999997,25.889136,29.955944,30.232688,31.217536,29.440583999999998,29.187488,30.306759999999997,26.411544,32.858128,40.2542,41.239416,40.298944,31.824071999999997,38.05,38.983608,35.764472,38.20888,36.627128,25.310015999999997,17.873296,37.846095999999996,40.695512,38.897048,41.345183999999996,41.001999999999995,38.77952,40.568695999999996],\"yaxis\":\"y\",\"type\":\"scatter\"}],                        {\"template\":{\"data\":{\"bar\":[{\"error_x\":{\"color\":\"#2a3f5f\"},\"error_y\":{\"color\":\"#2a3f5f\"},\"marker\":{\"line\":{\"color\":\"#E5ECF6\",\"width\":0.5},\"pattern\":{\"fillmode\":\"overlay\",\"size\":10,\"solidity\":0.2}},\"type\":\"bar\"}],\"barpolar\":[{\"marker\":{\"line\":{\"color\":\"#E5ECF6\",\"width\":0.5},\"pattern\":{\"fillmode\":\"overlay\",\"size\":10,\"solidity\":0.2}},\"type\":\"barpolar\"}],\"carpet\":[{\"aaxis\":{\"endlinecolor\":\"#2a3f5f\",\"gridcolor\":\"white\",\"linecolor\":\"white\",\"minorgridcolor\":\"white\",\"startlinecolor\":\"#2a3f5f\"},\"baxis\":{\"endlinecolor\":\"#2a3f5f\",\"gridcolor\":\"white\",\"linecolor\":\"white\",\"minorgridcolor\":\"white\",\"startlinecolor\":\"#2a3f5f\"},\"type\":\"carpet\"}],\"choropleth\":[{\"colorbar\":{\"outlinewidth\":0,\"ticks\":\"\"},\"type\":\"choropleth\"}],\"contour\":[{\"colorbar\":{\"outlinewidth\":0,\"ticks\":\"\"},\"colorscale\":[[0.0,\"#0d0887\"],[0.1111111111111111,\"#46039f\"],[0.2222222222222222,\"#7201a8\"],[0.3333333333333333,\"#9c179e\"],[0.4444444444444444,\"#bd3786\"],[0.5555555555555556,\"#d8576b\"],[0.6666666666666666,\"#ed7953\"],[0.7777777777777778,\"#fb9f3a\"],[0.8888888888888888,\"#fdca26\"],[1.0,\"#f0f921\"]],\"type\":\"contour\"}],\"contourcarpet\":[{\"colorbar\":{\"outlinewidth\":0,\"ticks\":\"\"},\"type\":\"contourcarpet\"}],\"heatmap\":[{\"colorbar\":{\"outlinewidth\":0,\"ticks\":\"\"},\"colorscale\":[[0.0,\"#0d0887\"],[0.1111111111111111,\"#46039f\"],[0.2222222222222222,\"#7201a8\"],[0.3333333333333333,\"#9c179e\"],[0.4444444444444444,\"#bd3786\"],[0.5555555555555556,\"#d8576b\"],[0.6666666666666666,\"#ed7953\"],[0.7777777777777778,\"#fb9f3a\"],[0.8888888888888888,\"#fdca26\"],[1.0,\"#f0f921\"]],\"type\":\"heatmap\"}],\"heatmapgl\":[{\"colorbar\":{\"outlinewidth\":0,\"ticks\":\"\"},\"colorscale\":[[0.0,\"#0d0887\"],[0.1111111111111111,\"#46039f\"],[0.2222222222222222,\"#7201a8\"],[0.3333333333333333,\"#9c179e\"],[0.4444444444444444,\"#bd3786\"],[0.5555555555555556,\"#d8576b\"],[0.6666666666666666,\"#ed7953\"],[0.7777777777777778,\"#fb9f3a\"],[0.8888888888888888,\"#fdca26\"],[1.0,\"#f0f921\"]],\"type\":\"heatmapgl\"}],\"histogram\":[{\"marker\":{\"pattern\":{\"fillmode\":\"overlay\",\"size\":10,\"solidity\":0.2}},\"type\":\"histogram\"}],\"histogram2d\":[{\"colorbar\":{\"outlinewidth\":0,\"ticks\":\"\"},\"colorscale\":[[0.0,\"#0d0887\"],[0.1111111111111111,\"#46039f\"],[0.2222222222222222,\"#7201a8\"],[0.3333333333333333,\"#9c179e\"],[0.4444444444444444,\"#bd3786\"],[0.5555555555555556,\"#d8576b\"],[0.6666666666666666,\"#ed7953\"],[0.7777777777777778,\"#fb9f3a\"],[0.8888888888888888,\"#fdca26\"],[1.0,\"#f0f921\"]],\"type\":\"histogram2d\"}],\"histogram2dcontour\":[{\"colorbar\":{\"outlinewidth\":0,\"ticks\":\"\"},\"colorscale\":[[0.0,\"#0d0887\"],[0.1111111111111111,\"#46039f\"],[0.2222222222222222,\"#7201a8\"],[0.3333333333333333,\"#9c179e\"],[0.4444444444444444,\"#bd3786\"],[0.5555555555555556,\"#d8576b\"],[0.6666666666666666,\"#ed7953\"],[0.7777777777777778,\"#fb9f3a\"],[0.8888888888888888,\"#fdca26\"],[1.0,\"#f0f921\"]],\"type\":\"histogram2dcontour\"}],\"mesh3d\":[{\"colorbar\":{\"outlinewidth\":0,\"ticks\":\"\"},\"type\":\"mesh3d\"}],\"parcoords\":[{\"line\":{\"colorbar\":{\"outlinewidth\":0,\"ticks\":\"\"}},\"type\":\"parcoords\"}],\"pie\":[{\"automargin\":true,\"type\":\"pie\"}],\"scatter\":[{\"marker\":{\"colorbar\":{\"outlinewidth\":0,\"ticks\":\"\"}},\"type\":\"scatter\"}],\"scatter3d\":[{\"line\":{\"colorbar\":{\"outlinewidth\":0,\"ticks\":\"\"}},\"marker\":{\"colorbar\":{\"outlinewidth\":0,\"ticks\":\"\"}},\"type\":\"scatter3d\"}],\"scattercarpet\":[{\"marker\":{\"colorbar\":{\"outlinewidth\":0,\"ticks\":\"\"}},\"type\":\"scattercarpet\"}],\"scattergeo\":[{\"marker\":{\"colorbar\":{\"outlinewidth\":0,\"ticks\":\"\"}},\"type\":\"scattergeo\"}],\"scattergl\":[{\"marker\":{\"colorbar\":{\"outlinewidth\":0,\"ticks\":\"\"}},\"type\":\"scattergl\"}],\"scattermapbox\":[{\"marker\":{\"colorbar\":{\"outlinewidth\":0,\"ticks\":\"\"}},\"type\":\"scattermapbox\"}],\"scatterpolar\":[{\"marker\":{\"colorbar\":{\"outlinewidth\":0,\"ticks\":\"\"}},\"type\":\"scatterpolar\"}],\"scatterpolargl\":[{\"marker\":{\"colorbar\":{\"outlinewidth\":0,\"ticks\":\"\"}},\"type\":\"scatterpolargl\"}],\"scatterternary\":[{\"marker\":{\"colorbar\":{\"outlinewidth\":0,\"ticks\":\"\"}},\"type\":\"scatterternary\"}],\"surface\":[{\"colorbar\":{\"outlinewidth\":0,\"ticks\":\"\"},\"colorscale\":[[0.0,\"#0d0887\"],[0.1111111111111111,\"#46039f\"],[0.2222222222222222,\"#7201a8\"],[0.3333333333333333,\"#9c179e\"],[0.4444444444444444,\"#bd3786\"],[0.5555555555555556,\"#d8576b\"],[0.6666666666666666,\"#ed7953\"],[0.7777777777777778,\"#fb9f3a\"],[0.8888888888888888,\"#fdca26\"],[1.0,\"#f0f921\"]],\"type\":\"surface\"}],\"table\":[{\"cells\":{\"fill\":{\"color\":\"#EBF0F8\"},\"line\":{\"color\":\"white\"}},\"header\":{\"fill\":{\"color\":\"#C8D4E3\"},\"line\":{\"color\":\"white\"}},\"type\":\"table\"}]},\"layout\":{\"annotationdefaults\":{\"arrowcolor\":\"#2a3f5f\",\"arrowhead\":0,\"arrowwidth\":1},\"autotypenumbers\":\"strict\",\"coloraxis\":{\"colorbar\":{\"outlinewidth\":0,\"ticks\":\"\"}},\"colorscale\":{\"diverging\":[[0,\"#8e0152\"],[0.1,\"#c51b7d\"],[0.2,\"#de77ae\"],[0.3,\"#f1b6da\"],[0.4,\"#fde0ef\"],[0.5,\"#f7f7f7\"],[0.6,\"#e6f5d0\"],[0.7,\"#b8e186\"],[0.8,\"#7fbc41\"],[0.9,\"#4d9221\"],[1,\"#276419\"]],\"sequential\":[[0.0,\"#0d0887\"],[0.1111111111111111,\"#46039f\"],[0.2222222222222222,\"#7201a8\"],[0.3333333333333333,\"#9c179e\"],[0.4444444444444444,\"#bd3786\"],[0.5555555555555556,\"#d8576b\"],[0.6666666666666666,\"#ed7953\"],[0.7777777777777778,\"#fb9f3a\"],[0.8888888888888888,\"#fdca26\"],[1.0,\"#f0f921\"]],\"sequentialminus\":[[0.0,\"#0d0887\"],[0.1111111111111111,\"#46039f\"],[0.2222222222222222,\"#7201a8\"],[0.3333333333333333,\"#9c179e\"],[0.4444444444444444,\"#bd3786\"],[0.5555555555555556,\"#d8576b\"],[0.6666666666666666,\"#ed7953\"],[0.7777777777777778,\"#fb9f3a\"],[0.8888888888888888,\"#fdca26\"],[1.0,\"#f0f921\"]]},\"colorway\":[\"#636efa\",\"#EF553B\",\"#00cc96\",\"#ab63fa\",\"#FFA15A\",\"#19d3f3\",\"#FF6692\",\"#B6E880\",\"#FF97FF\",\"#FECB52\"],\"font\":{\"color\":\"#2a3f5f\"},\"geo\":{\"bgcolor\":\"white\",\"lakecolor\":\"white\",\"landcolor\":\"#E5ECF6\",\"showlakes\":true,\"showland\":true,\"subunitcolor\":\"white\"},\"hoverlabel\":{\"align\":\"left\"},\"hovermode\":\"closest\",\"mapbox\":{\"style\":\"light\"},\"paper_bgcolor\":\"white\",\"plot_bgcolor\":\"#E5ECF6\",\"polar\":{\"angularaxis\":{\"gridcolor\":\"white\",\"linecolor\":\"white\",\"ticks\":\"\"},\"bgcolor\":\"#E5ECF6\",\"radialaxis\":{\"gridcolor\":\"white\",\"linecolor\":\"white\",\"ticks\":\"\"}},\"scene\":{\"xaxis\":{\"backgroundcolor\":\"#E5ECF6\",\"gridcolor\":\"white\",\"gridwidth\":2,\"linecolor\":\"white\",\"showbackground\":true,\"ticks\":\"\",\"zerolinecolor\":\"white\"},\"yaxis\":{\"backgroundcolor\":\"#E5ECF6\",\"gridcolor\":\"white\",\"gridwidth\":2,\"linecolor\":\"white\",\"showbackground\":true,\"ticks\":\"\",\"zerolinecolor\":\"white\"},\"zaxis\":{\"backgroundcolor\":\"#E5ECF6\",\"gridcolor\":\"white\",\"gridwidth\":2,\"linecolor\":\"white\",\"showbackground\":true,\"ticks\":\"\",\"zerolinecolor\":\"white\"}},\"shapedefaults\":{\"line\":{\"color\":\"#2a3f5f\"}},\"ternary\":{\"aaxis\":{\"gridcolor\":\"white\",\"linecolor\":\"white\",\"ticks\":\"\"},\"baxis\":{\"gridcolor\":\"white\",\"linecolor\":\"white\",\"ticks\":\"\"},\"bgcolor\":\"#E5ECF6\",\"caxis\":{\"gridcolor\":\"white\",\"linecolor\":\"white\",\"ticks\":\"\"}},\"title\":{\"x\":0.05},\"xaxis\":{\"automargin\":true,\"gridcolor\":\"white\",\"linecolor\":\"white\",\"ticks\":\"\",\"title\":{\"standoff\":15},\"zerolinecolor\":\"white\",\"zerolinewidth\":2},\"yaxis\":{\"automargin\":true,\"gridcolor\":\"white\",\"linecolor\":\"white\",\"ticks\":\"\",\"title\":{\"standoff\":15},\"zerolinecolor\":\"white\",\"zerolinewidth\":2}}},\"xaxis\":{\"anchor\":\"y\",\"domain\":[0.0,1.0],\"title\":{\"text\":\"date\"}},\"yaxis\":{\"anchor\":\"x\",\"domain\":[0.0,1.0],\"title\":{\"text\":\"mbps\"}},\"legend\":{\"title\":{\"text\":\"type\"},\"tracegroupgap\":0},\"margin\":{\"t\":60}},                        {\"responsive\": true}                    ).then(function(){\n",
       "                            \n",
       "var gd = document.getElementById('3515f873-0899-42c9-aaff-0e3ecf199c8d');\n",
       "var x = new MutationObserver(function (mutations, observer) {{\n",
       "        var display = window.getComputedStyle(gd).display;\n",
       "        if (!display || display === 'none') {{\n",
       "            console.log([gd, 'removed!']);\n",
       "            Plotly.purge(gd);\n",
       "            observer.disconnect();\n",
       "        }}\n",
       "}});\n",
       "\n",
       "// Listen for the removal of the full notebook cells\n",
       "var notebookContainer = gd.closest('#notebook-container');\n",
       "if (notebookContainer) {{\n",
       "    x.observe(notebookContainer, {childList: true});\n",
       "}}\n",
       "\n",
       "// Listen for the clearing of the current output cell\n",
       "var outputEl = gd.closest('.output');\n",
       "if (outputEl) {{\n",
       "    x.observe(outputEl, {childList: true});\n",
       "}}\n",
       "\n",
       "                        })                };                });            </script>        </div>"
      ]
     },
     "metadata": {},
     "output_type": "display_data"
    },
    {
     "name": "stdout",
     "output_type": "stream",
     "text": [
      "           download        upload\n",
      "count  3.600000e+01  3.600000e+01\n",
      "mean   2.600164e+07  4.141230e+06\n",
      "std    6.904305e+06  7.292463e+05\n",
      "min    1.225948e+07  2.234162e+06\n",
      "25%    2.213791e+07  3.668134e+06\n",
      "50%    2.326633e+07  3.861954e+06\n",
      "75%    3.111902e+07  4.851113e+06\n",
      "max    4.553781e+07  5.168148e+06\n",
      "-- Waiting\n"
     ]
    }
   ],
   "source": [
    "def run_speedtest(history_df):\n",
    "    # import subprocess\n",
    "    # returned_value = subprocess.call(f\"{filename} {options}\", shell=True)  # returns the exit code in unix\n",
    "    # print('returned value:', returned_value)\n",
    "    \n",
    "    print(\"Testing\")\n",
    "    os.system(f\"{filename} {options}\")\n",
    "\n",
    "    data_df = pd.read_csv(output_file)\n",
    "    data_df['date'] = [dt.datetime.now()]\n",
    "\n",
    "    # Chop the entire history file down to the columns we care about and then scale them by 8 to convert from Bps to bps\n",
    "    history_df = history_df.append(data_df)\n",
    "\n",
    "    plot_df = history_df[['date', 'download']].rename({'download': 'mbps'}, axis=1)\n",
    "    plot_df[\"type\"] = \"down\"\n",
    "    \n",
    "    upload_df = history_df[['date', 'upload']].rename({'upload': 'mbps'}, axis=1)\n",
    "    upload_df[\"type\"] = \"up\"\n",
    "    \n",
    "    plot_df = plot_df.append(upload_df)\n",
    "    plot_df.loc[:, 'mbps'] *= 8 / 1e6\n",
    "\n",
    "    fig = px.line(plot_df, x='date', y='mbps', color='type')\n",
    "    fig.show()\n",
    "    print(history_df[['download', 'upload']].describe())\n",
    "\n",
    "    history_df.to_csv('history.csv', index=False)\n",
    "    return history_df\n",
    "\n",
    "try:\n",
    "    history_df = pd.read_csv('history.csv')\n",
    "except:\n",
    "    history_df = pd.DataFrame()\n",
    "\n",
    "wait = 5 # min\n",
    "loops = int(6 * 60 / wait)\n",
    "for i in range(loops):\n",
    "    i += 1\n",
    "    print(i, dt.datetime.now())\n",
    "    history_df = run_speedtest(history_df)\n",
    "    if i < loops:\n",
    "        print(\"-- Waiting\")\n",
    "        clear_output(wait=True)\n",
    "        time.sleep(wait * 60)\n"
   ]
  },
  {
   "cell_type": "markdown",
   "id": "4fdd154f-04fb-448f-ae35-d65d0c9968ec",
   "metadata": {},
   "source": [
    "### The Buck Stops Here"
   ]
  },
  {
   "cell_type": "code",
   "execution_count": null,
   "id": "c145a8db-6f67-496d-b700-bda0a188c241",
   "metadata": {},
   "outputs": [],
   "source": []
  }
 ],
 "metadata": {
  "kernelspec": {
   "display_name": "Python 3 (ipykernel)",
   "language": "python",
   "name": "python3"
  },
  "language_info": {
   "codemirror_mode": {
    "name": "ipython",
    "version": 3
   },
   "file_extension": ".py",
   "mimetype": "text/x-python",
   "name": "python",
   "nbconvert_exporter": "python",
   "pygments_lexer": "ipython3",
   "version": "3.8.12"
  }
 },
 "nbformat": 4,
 "nbformat_minor": 5
}
