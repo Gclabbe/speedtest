{
 "cells": [
  {
   "cell_type": "code",
   "execution_count": 1,
   "id": "a0f72134-cfa9-49aa-9ae7-2aacd2b292ff",
   "metadata": {},
   "outputs": [],
   "source": [
    "import pandas as pd\n",
    "import numpy as np\n",
    "import os\n",
    "import datetime as dt\n",
    "import time\n",
    "\n",
    "from IPython.display import clear_output\n",
    "import plotly.express as px"
   ]
  },
  {
   "cell_type": "code",
   "execution_count": 2,
   "id": "5687b2db-a4c5-4c88-a167-0b55e2aa6005",
   "metadata": {},
   "outputs": [],
   "source": [
    "output_file = \"test.csv\"\n",
    "history_file = \"history.csv\"\n",
    "\n",
    "speedtest_name = \"speedtest\"  # .exe\"\n",
    "options = f\"--output-header -f csv > {output_file}\"\n"
   ]
  },
  {
   "cell_type": "code",
   "execution_count": 3,
   "id": "51baa6ca-380e-4243-8f9c-bebb0a44dc73",
   "metadata": {
    "tags": []
   },
   "outputs": [],
   "source": [
    "\n",
    "def run_speedtest(speedtest_name: str, options: str) -> pd.DataFrame:\n",
    "    print(\"Testing\")\n",
    "\n",
    "    # kickoff the CLI speedtest\n",
    "    try:\n",
    "        os.system(f\"{speedtest_name} {options}\")\n",
    "    except Exception as e:\n",
    "        print(str(e))\n",
    "        return None\n",
    "\n",
    "    # loadup the results from speedtest and add the current date-time\n",
    "    try:\n",
    "        data_df = pd.read_csv(output_file)\n",
    "        data_df['date'] = [dt.datetime.now()]\n",
    "        return data_df\n",
    "    except Exception as e:\n",
    "        # no results in output file from Speedtest.  Happens occasionally\n",
    "        print(str(e))\n",
    "        return None\n",
    "\n",
    "\n",
    "def update_history_df(data_df: pd.DataFrame, history_file: str) -> pd.DataFrame:\n",
    "    try:\n",
    "        history_df = pd.read_csv(history_file)\n",
    "        history_df = pd.concat([history_df, data_df], axis=0)\n",
    "    except:\n",
    "        history_df = data_df\n",
    "\n",
    "    history_df.to_csv(history_file, index=False)\n",
    "    \n",
    "    return history_df\n",
    "\n",
    "\n",
    "def show_updated_speed(history_df: pd.DataFrame) -> None:\n",
    "    plot_df = history_df[['date', 'download']].rename({'download': 'mbps'}, axis=1)\n",
    "    plot_df[\"type\"] = \"down\"\n",
    "    \n",
    "    upload_df = history_df[['date', 'upload']].rename({'upload': 'mbps'}, axis=1)\n",
    "    upload_df[\"type\"] = \"up\"\n",
    "    \n",
    "    plot_df = pd.concat([plot_df, upload_df], axis=0)\n",
    "    \n",
    "    # convert from MBps to Mbps (2nd one is what everyone tells you you're getting)\n",
    "    plot_df.loc[:, 'mbps'] *= 8 / 1e6\n",
    "    \n",
    "    fig = px.line(plot_df, x='date', y='mbps', color='type')\n",
    "    fig.show()\n",
    "    \n",
    "    print(history_df[['download', 'upload']].describe())\n",
    "\n",
    "    return None"
   ]
  },
  {
   "cell_type": "code",
   "execution_count": null,
   "id": "99b94569-2414-41f2-935f-c162ab96b3cb",
   "metadata": {
    "tags": []
   },
   "outputs": [
    {
     "name": "stdout",
     "output_type": "stream",
     "text": [
      "24/60 -- Waiting for 30.0 seconds\n"
     ]
    },
    {
     "data": {
      "application/vnd.plotly.v1+json": {
       "config": {
        "plotlyServerURL": "https://plot.ly"
       },
       "data": [
        {
         "hovertemplate": "type=down<br>date=%{x}<br>mbps=%{y}<extra></extra>",
         "legendgroup": "down",
         "line": {
          "color": "#636efa",
          "dash": "solid"
         },
         "marker": {
          "symbol": "circle"
         },
         "mode": "lines",
         "name": "down",
         "orientation": "v",
         "showlegend": true,
         "type": "scatter",
         "x": [
          "2022-12-14 14:37:57.942271",
          "2022-12-14 14:38:54.485852",
          "2022-12-14 14:39:53.293311",
          "2022-12-14 14:40:49.722342",
          "2022-12-14 14:41:48.841883",
          "2022-12-14 14:42:50.171980",
          "2022-12-14 14:43:48.883573",
          "2022-12-14 14:44:43.582977",
          "2022-12-14 14:46:31.658172",
          "2022-12-14 14:48:22.260758",
          "2022-12-14 14:50:09.207753",
          "2022-12-14 14:53:00.281994",
          "2022-12-14 14:53:59.160388",
          "2022-12-14 14:54:57.464403",
          "2022-12-14 14:55:58.981773",
          "2022-12-14 14:56:54.221177",
          "2022-12-14 14:57:50.879848",
          "2022-12-14 15:01:41.177281",
          "2022-12-14 15:02:34.308525",
          "2022-12-14 15:03:29.782120",
          "2022-12-14 15:05:13.492223",
          "2022-12-14 15:06:10.581215",
          "2022-12-14 15:07:11.931881",
          "2022-12-14 15:08:08.195865",
          "2022-12-14 15:09:53.854341",
          "2022-12-14 15:12:41.979821",
          "2022-12-14 15:13:39.160043",
          "2022-12-14 15:14:34.646104",
          "2022-12-14 15:15:30.579314",
          "2022-12-14 15:16:31.662908",
          "2022-12-14 15:17:33.806507",
          "2022-12-14 15:18:32.001887",
          "2022-12-14 15:19:29.646359",
          "2022-12-14 15:21:17.731927",
          "2022-12-14 15:23:59.321740",
          "2022-12-14 15:24:54.767130",
          "2022-12-14 15:25:54.824599",
          "2022-12-14 15:26:51.824324",
          "2022-12-14 15:27:52.606844",
          "2022-12-14 15:28:54.275903",
          "2022-12-14 15:29:53.427419",
          "2022-12-14 15:32:35.750559",
          "2022-12-15 08:11:59.055473",
          "2022-12-15 08:12:58.047278",
          "2022-12-15 08:13:56.935479",
          "2022-12-15 08:18:29.211547",
          "2022-12-15 08:19:32.391133",
          "2022-12-15 08:21:24.020632",
          "2022-12-15 08:22:18.692697",
          "2022-12-15 08:23:14.922654",
          "2022-12-15 08:25:05.040657",
          "2022-12-15 08:26:03.917443",
          "2022-12-15 08:27:06.887088",
          "2022-12-15 08:28:08.290730",
          "2022-12-15 08:29:59.007790",
          "2022-12-15 08:30:54.370874",
          "2022-12-15 08:31:50.147777",
          "2022-12-15T08:33:37.481846"
         ],
         "xaxis": "x",
         "y": [
          81.06979199999999,
          88.520416,
          88.4078,
          81.46303999999999,
          86.41568,
          72.712744,
          78.74703199999999,
          91.335256,
          75.12865599999999,
          71.072208,
          85.982936,
          73.779456,
          47.235928,
          66.28764799999999,
          72.90776,
          86.7978,
          78.313656,
          67.52108,
          83.40829599999999,
          88.32313599999999,
          74.431936,
          79.324952,
          66.953088,
          79.75748,
          91.13870399999999,
          101.286952,
          104.572424,
          96.686984,
          113.36261599999999,
          82.44473599999999,
          90.73442399999999,
          76.59508,
          88.74112,
          71.79848,
          77.13268,
          88.50775999999999,
          94.72428,
          100.936472,
          92.083424,
          73.945976,
          87.90504,
          81.450272,
          101.686752,
          101.504008,
          71.618928,
          81.27682399999999,
          74.73512,
          99.572952,
          104.10915999999999,
          112.34960799999999,
          95.68765599999999,
          108.322992,
          62.718391999999994,
          83.15356799999999,
          87.255136,
          85.101368,
          82.72933599999999,
          85.02535999999999
         ],
         "yaxis": "y"
        },
        {
         "hovertemplate": "type=up<br>date=%{x}<br>mbps=%{y}<extra></extra>",
         "legendgroup": "up",
         "line": {
          "color": "#EF553B",
          "dash": "solid"
         },
         "marker": {
          "symbol": "circle"
         },
         "mode": "lines",
         "name": "up",
         "orientation": "v",
         "showlegend": true,
         "type": "scatter",
         "x": [
          "2022-12-14 14:37:57.942271",
          "2022-12-14 14:38:54.485852",
          "2022-12-14 14:39:53.293311",
          "2022-12-14 14:40:49.722342",
          "2022-12-14 14:41:48.841883",
          "2022-12-14 14:42:50.171980",
          "2022-12-14 14:43:48.883573",
          "2022-12-14 14:44:43.582977",
          "2022-12-14 14:46:31.658172",
          "2022-12-14 14:48:22.260758",
          "2022-12-14 14:50:09.207753",
          "2022-12-14 14:53:00.281994",
          "2022-12-14 14:53:59.160388",
          "2022-12-14 14:54:57.464403",
          "2022-12-14 14:55:58.981773",
          "2022-12-14 14:56:54.221177",
          "2022-12-14 14:57:50.879848",
          "2022-12-14 15:01:41.177281",
          "2022-12-14 15:02:34.308525",
          "2022-12-14 15:03:29.782120",
          "2022-12-14 15:05:13.492223",
          "2022-12-14 15:06:10.581215",
          "2022-12-14 15:07:11.931881",
          "2022-12-14 15:08:08.195865",
          "2022-12-14 15:09:53.854341",
          "2022-12-14 15:12:41.979821",
          "2022-12-14 15:13:39.160043",
          "2022-12-14 15:14:34.646104",
          "2022-12-14 15:15:30.579314",
          "2022-12-14 15:16:31.662908",
          "2022-12-14 15:17:33.806507",
          "2022-12-14 15:18:32.001887",
          "2022-12-14 15:19:29.646359",
          "2022-12-14 15:21:17.731927",
          "2022-12-14 15:23:59.321740",
          "2022-12-14 15:24:54.767130",
          "2022-12-14 15:25:54.824599",
          "2022-12-14 15:26:51.824324",
          "2022-12-14 15:27:52.606844",
          "2022-12-14 15:28:54.275903",
          "2022-12-14 15:29:53.427419",
          "2022-12-14 15:32:35.750559",
          "2022-12-15 08:11:59.055473",
          "2022-12-15 08:12:58.047278",
          "2022-12-15 08:13:56.935479",
          "2022-12-15 08:18:29.211547",
          "2022-12-15 08:19:32.391133",
          "2022-12-15 08:21:24.020632",
          "2022-12-15 08:22:18.692697",
          "2022-12-15 08:23:14.922654",
          "2022-12-15 08:25:05.040657",
          "2022-12-15 08:26:03.917443",
          "2022-12-15 08:27:06.887088",
          "2022-12-15 08:28:08.290730",
          "2022-12-15 08:29:59.007790",
          "2022-12-15 08:30:54.370874",
          "2022-12-15 08:31:50.147777",
          "2022-12-15T08:33:37.481846"
         ],
         "xaxis": "x",
         "y": [
          12.858448,
          32.409376,
          21.469984,
          35.681744,
          29.450999999999997,
          13.826824,
          35.096447999999995,
          8.796248,
          10.065351999999999,
          28.092632,
          28.478704,
          6.020303999999999,
          30.685824,
          13.726816,
          28.041608,
          8.99432,
          16.093176,
          12.373576,
          30.682592,
          31.850839999999998,
          12.308584,
          28.943112,
          13.305703999999999,
          27.203719999999997,
          14.244048,
          34.158336,
          31.557208,
          22.748704,
          24.502959999999998,
          29.541272,
          5.769552,
          25.968207999999997,
          14.50704,
          29.948152,
          13.830255999999999,
          29.051848,
          25.326504,
          27.575608,
          19.53152,
          33.26184,
          24.96012,
          13.205112,
          33.212232,
          18.84552,
          25.858776,
          15.037536,
          20.161687999999998,
          16.174224,
          16.714048,
          37.678616,
          16.447008,
          13.93816,
          20.154664,
          10.5552,
          32.562295999999996,
          17.483672,
          26.960535999999998,
          35.555976
         ],
         "yaxis": "y"
        }
       ],
       "layout": {
        "autosize": true,
        "legend": {
         "title": {
          "text": "type"
         },
         "tracegroupgap": 0
        },
        "margin": {
         "t": 60
        },
        "template": {
         "data": {
          "bar": [
           {
            "error_x": {
             "color": "#2a3f5f"
            },
            "error_y": {
             "color": "#2a3f5f"
            },
            "marker": {
             "line": {
              "color": "#E5ECF6",
              "width": 0.5
             },
             "pattern": {
              "fillmode": "overlay",
              "size": 10,
              "solidity": 0.2
             }
            },
            "type": "bar"
           }
          ],
          "barpolar": [
           {
            "marker": {
             "line": {
              "color": "#E5ECF6",
              "width": 0.5
             },
             "pattern": {
              "fillmode": "overlay",
              "size": 10,
              "solidity": 0.2
             }
            },
            "type": "barpolar"
           }
          ],
          "carpet": [
           {
            "aaxis": {
             "endlinecolor": "#2a3f5f",
             "gridcolor": "white",
             "linecolor": "white",
             "minorgridcolor": "white",
             "startlinecolor": "#2a3f5f"
            },
            "baxis": {
             "endlinecolor": "#2a3f5f",
             "gridcolor": "white",
             "linecolor": "white",
             "minorgridcolor": "white",
             "startlinecolor": "#2a3f5f"
            },
            "type": "carpet"
           }
          ],
          "choropleth": [
           {
            "colorbar": {
             "outlinewidth": 0,
             "ticks": ""
            },
            "type": "choropleth"
           }
          ],
          "contour": [
           {
            "colorbar": {
             "outlinewidth": 0,
             "ticks": ""
            },
            "colorscale": [
             [
              0,
              "#0d0887"
             ],
             [
              0.1111111111111111,
              "#46039f"
             ],
             [
              0.2222222222222222,
              "#7201a8"
             ],
             [
              0.3333333333333333,
              "#9c179e"
             ],
             [
              0.4444444444444444,
              "#bd3786"
             ],
             [
              0.5555555555555556,
              "#d8576b"
             ],
             [
              0.6666666666666666,
              "#ed7953"
             ],
             [
              0.7777777777777778,
              "#fb9f3a"
             ],
             [
              0.8888888888888888,
              "#fdca26"
             ],
             [
              1,
              "#f0f921"
             ]
            ],
            "type": "contour"
           }
          ],
          "contourcarpet": [
           {
            "colorbar": {
             "outlinewidth": 0,
             "ticks": ""
            },
            "type": "contourcarpet"
           }
          ],
          "heatmap": [
           {
            "colorbar": {
             "outlinewidth": 0,
             "ticks": ""
            },
            "colorscale": [
             [
              0,
              "#0d0887"
             ],
             [
              0.1111111111111111,
              "#46039f"
             ],
             [
              0.2222222222222222,
              "#7201a8"
             ],
             [
              0.3333333333333333,
              "#9c179e"
             ],
             [
              0.4444444444444444,
              "#bd3786"
             ],
             [
              0.5555555555555556,
              "#d8576b"
             ],
             [
              0.6666666666666666,
              "#ed7953"
             ],
             [
              0.7777777777777778,
              "#fb9f3a"
             ],
             [
              0.8888888888888888,
              "#fdca26"
             ],
             [
              1,
              "#f0f921"
             ]
            ],
            "type": "heatmap"
           }
          ],
          "heatmapgl": [
           {
            "colorbar": {
             "outlinewidth": 0,
             "ticks": ""
            },
            "colorscale": [
             [
              0,
              "#0d0887"
             ],
             [
              0.1111111111111111,
              "#46039f"
             ],
             [
              0.2222222222222222,
              "#7201a8"
             ],
             [
              0.3333333333333333,
              "#9c179e"
             ],
             [
              0.4444444444444444,
              "#bd3786"
             ],
             [
              0.5555555555555556,
              "#d8576b"
             ],
             [
              0.6666666666666666,
              "#ed7953"
             ],
             [
              0.7777777777777778,
              "#fb9f3a"
             ],
             [
              0.8888888888888888,
              "#fdca26"
             ],
             [
              1,
              "#f0f921"
             ]
            ],
            "type": "heatmapgl"
           }
          ],
          "histogram": [
           {
            "marker": {
             "pattern": {
              "fillmode": "overlay",
              "size": 10,
              "solidity": 0.2
             }
            },
            "type": "histogram"
           }
          ],
          "histogram2d": [
           {
            "colorbar": {
             "outlinewidth": 0,
             "ticks": ""
            },
            "colorscale": [
             [
              0,
              "#0d0887"
             ],
             [
              0.1111111111111111,
              "#46039f"
             ],
             [
              0.2222222222222222,
              "#7201a8"
             ],
             [
              0.3333333333333333,
              "#9c179e"
             ],
             [
              0.4444444444444444,
              "#bd3786"
             ],
             [
              0.5555555555555556,
              "#d8576b"
             ],
             [
              0.6666666666666666,
              "#ed7953"
             ],
             [
              0.7777777777777778,
              "#fb9f3a"
             ],
             [
              0.8888888888888888,
              "#fdca26"
             ],
             [
              1,
              "#f0f921"
             ]
            ],
            "type": "histogram2d"
           }
          ],
          "histogram2dcontour": [
           {
            "colorbar": {
             "outlinewidth": 0,
             "ticks": ""
            },
            "colorscale": [
             [
              0,
              "#0d0887"
             ],
             [
              0.1111111111111111,
              "#46039f"
             ],
             [
              0.2222222222222222,
              "#7201a8"
             ],
             [
              0.3333333333333333,
              "#9c179e"
             ],
             [
              0.4444444444444444,
              "#bd3786"
             ],
             [
              0.5555555555555556,
              "#d8576b"
             ],
             [
              0.6666666666666666,
              "#ed7953"
             ],
             [
              0.7777777777777778,
              "#fb9f3a"
             ],
             [
              0.8888888888888888,
              "#fdca26"
             ],
             [
              1,
              "#f0f921"
             ]
            ],
            "type": "histogram2dcontour"
           }
          ],
          "mesh3d": [
           {
            "colorbar": {
             "outlinewidth": 0,
             "ticks": ""
            },
            "type": "mesh3d"
           }
          ],
          "parcoords": [
           {
            "line": {
             "colorbar": {
              "outlinewidth": 0,
              "ticks": ""
             }
            },
            "type": "parcoords"
           }
          ],
          "pie": [
           {
            "automargin": true,
            "type": "pie"
           }
          ],
          "scatter": [
           {
            "fillpattern": {
             "fillmode": "overlay",
             "size": 10,
             "solidity": 0.2
            },
            "type": "scatter"
           }
          ],
          "scatter3d": [
           {
            "line": {
             "colorbar": {
              "outlinewidth": 0,
              "ticks": ""
             }
            },
            "marker": {
             "colorbar": {
              "outlinewidth": 0,
              "ticks": ""
             }
            },
            "type": "scatter3d"
           }
          ],
          "scattercarpet": [
           {
            "marker": {
             "colorbar": {
              "outlinewidth": 0,
              "ticks": ""
             }
            },
            "type": "scattercarpet"
           }
          ],
          "scattergeo": [
           {
            "marker": {
             "colorbar": {
              "outlinewidth": 0,
              "ticks": ""
             }
            },
            "type": "scattergeo"
           }
          ],
          "scattergl": [
           {
            "marker": {
             "colorbar": {
              "outlinewidth": 0,
              "ticks": ""
             }
            },
            "type": "scattergl"
           }
          ],
          "scattermapbox": [
           {
            "marker": {
             "colorbar": {
              "outlinewidth": 0,
              "ticks": ""
             }
            },
            "type": "scattermapbox"
           }
          ],
          "scatterpolar": [
           {
            "marker": {
             "colorbar": {
              "outlinewidth": 0,
              "ticks": ""
             }
            },
            "type": "scatterpolar"
           }
          ],
          "scatterpolargl": [
           {
            "marker": {
             "colorbar": {
              "outlinewidth": 0,
              "ticks": ""
             }
            },
            "type": "scatterpolargl"
           }
          ],
          "scatterternary": [
           {
            "marker": {
             "colorbar": {
              "outlinewidth": 0,
              "ticks": ""
             }
            },
            "type": "scatterternary"
           }
          ],
          "surface": [
           {
            "colorbar": {
             "outlinewidth": 0,
             "ticks": ""
            },
            "colorscale": [
             [
              0,
              "#0d0887"
             ],
             [
              0.1111111111111111,
              "#46039f"
             ],
             [
              0.2222222222222222,
              "#7201a8"
             ],
             [
              0.3333333333333333,
              "#9c179e"
             ],
             [
              0.4444444444444444,
              "#bd3786"
             ],
             [
              0.5555555555555556,
              "#d8576b"
             ],
             [
              0.6666666666666666,
              "#ed7953"
             ],
             [
              0.7777777777777778,
              "#fb9f3a"
             ],
             [
              0.8888888888888888,
              "#fdca26"
             ],
             [
              1,
              "#f0f921"
             ]
            ],
            "type": "surface"
           }
          ],
          "table": [
           {
            "cells": {
             "fill": {
              "color": "#EBF0F8"
             },
             "line": {
              "color": "white"
             }
            },
            "header": {
             "fill": {
              "color": "#C8D4E3"
             },
             "line": {
              "color": "white"
             }
            },
            "type": "table"
           }
          ]
         },
         "layout": {
          "annotationdefaults": {
           "arrowcolor": "#2a3f5f",
           "arrowhead": 0,
           "arrowwidth": 1
          },
          "autotypenumbers": "strict",
          "coloraxis": {
           "colorbar": {
            "outlinewidth": 0,
            "ticks": ""
           }
          },
          "colorscale": {
           "diverging": [
            [
             0,
             "#8e0152"
            ],
            [
             0.1,
             "#c51b7d"
            ],
            [
             0.2,
             "#de77ae"
            ],
            [
             0.3,
             "#f1b6da"
            ],
            [
             0.4,
             "#fde0ef"
            ],
            [
             0.5,
             "#f7f7f7"
            ],
            [
             0.6,
             "#e6f5d0"
            ],
            [
             0.7,
             "#b8e186"
            ],
            [
             0.8,
             "#7fbc41"
            ],
            [
             0.9,
             "#4d9221"
            ],
            [
             1,
             "#276419"
            ]
           ],
           "sequential": [
            [
             0,
             "#0d0887"
            ],
            [
             0.1111111111111111,
             "#46039f"
            ],
            [
             0.2222222222222222,
             "#7201a8"
            ],
            [
             0.3333333333333333,
             "#9c179e"
            ],
            [
             0.4444444444444444,
             "#bd3786"
            ],
            [
             0.5555555555555556,
             "#d8576b"
            ],
            [
             0.6666666666666666,
             "#ed7953"
            ],
            [
             0.7777777777777778,
             "#fb9f3a"
            ],
            [
             0.8888888888888888,
             "#fdca26"
            ],
            [
             1,
             "#f0f921"
            ]
           ],
           "sequentialminus": [
            [
             0,
             "#0d0887"
            ],
            [
             0.1111111111111111,
             "#46039f"
            ],
            [
             0.2222222222222222,
             "#7201a8"
            ],
            [
             0.3333333333333333,
             "#9c179e"
            ],
            [
             0.4444444444444444,
             "#bd3786"
            ],
            [
             0.5555555555555556,
             "#d8576b"
            ],
            [
             0.6666666666666666,
             "#ed7953"
            ],
            [
             0.7777777777777778,
             "#fb9f3a"
            ],
            [
             0.8888888888888888,
             "#fdca26"
            ],
            [
             1,
             "#f0f921"
            ]
           ]
          },
          "colorway": [
           "#636efa",
           "#EF553B",
           "#00cc96",
           "#ab63fa",
           "#FFA15A",
           "#19d3f3",
           "#FF6692",
           "#B6E880",
           "#FF97FF",
           "#FECB52"
          ],
          "font": {
           "color": "#2a3f5f"
          },
          "geo": {
           "bgcolor": "white",
           "lakecolor": "white",
           "landcolor": "#E5ECF6",
           "showlakes": true,
           "showland": true,
           "subunitcolor": "white"
          },
          "hoverlabel": {
           "align": "left"
          },
          "hovermode": "closest",
          "mapbox": {
           "style": "light"
          },
          "paper_bgcolor": "white",
          "plot_bgcolor": "#E5ECF6",
          "polar": {
           "angularaxis": {
            "gridcolor": "white",
            "linecolor": "white",
            "ticks": ""
           },
           "bgcolor": "#E5ECF6",
           "radialaxis": {
            "gridcolor": "white",
            "linecolor": "white",
            "ticks": ""
           }
          },
          "scene": {
           "xaxis": {
            "backgroundcolor": "#E5ECF6",
            "gridcolor": "white",
            "gridwidth": 2,
            "linecolor": "white",
            "showbackground": true,
            "ticks": "",
            "zerolinecolor": "white"
           },
           "yaxis": {
            "backgroundcolor": "#E5ECF6",
            "gridcolor": "white",
            "gridwidth": 2,
            "linecolor": "white",
            "showbackground": true,
            "ticks": "",
            "zerolinecolor": "white"
           },
           "zaxis": {
            "backgroundcolor": "#E5ECF6",
            "gridcolor": "white",
            "gridwidth": 2,
            "linecolor": "white",
            "showbackground": true,
            "ticks": "",
            "zerolinecolor": "white"
           }
          },
          "shapedefaults": {
           "line": {
            "color": "#2a3f5f"
           }
          },
          "ternary": {
           "aaxis": {
            "gridcolor": "white",
            "linecolor": "white",
            "ticks": ""
           },
           "baxis": {
            "gridcolor": "white",
            "linecolor": "white",
            "ticks": ""
           },
           "bgcolor": "#E5ECF6",
           "caxis": {
            "gridcolor": "white",
            "linecolor": "white",
            "ticks": ""
           }
          },
          "title": {
           "x": 0.05
          },
          "xaxis": {
           "automargin": true,
           "gridcolor": "white",
           "linecolor": "white",
           "ticks": "",
           "title": {
            "standoff": 15
           },
           "zerolinecolor": "white",
           "zerolinewidth": 2
          },
          "yaxis": {
           "automargin": true,
           "gridcolor": "white",
           "linecolor": "white",
           "ticks": "",
           "title": {
            "standoff": 15
           },
           "zerolinecolor": "white",
           "zerolinewidth": 2
          }
         }
        },
        "xaxis": {
         "anchor": "y",
         "autorange": true,
         "domain": [
          0,
          1
         ],
         "range": [
          "2022-12-14 14:37:57.9423",
          "2022-12-15 08:33:37.4818"
         ],
         "title": {
          "text": "date"
         },
         "type": "date"
        },
        "yaxis": {
         "anchor": "x",
         "autorange": true,
         "domain": [
          0,
          1
         ],
         "range": [
          -0.20784044444444394,
          119.34000844444444
         ],
         "title": {
          "text": "mbps"
         },
         "type": "linear"
        }
       }
      },
      "image/png": "[encoded data removed]",
      "text/html": [
       "<div>                            <div id=\"fac17f02-cb24-4267-bdbd-f3c75ef99f03\" class=\"plotly-graph-div\" style=\"height:525px; width:100%;\"></div>            <script type=\"text/javascript\">                require([\"plotly\"], function(Plotly) {                    window.PLOTLYENV=window.PLOTLYENV || {};                                    if (document.getElementById(\"fac17f02-cb24-4267-bdbd-f3c75ef99f03\")) {                    Plotly.newPlot(                        \"fac17f02-cb24-4267-bdbd-f3c75ef99f03\",                        [{\"hovertemplate\":\"type=down<br>date=%{x}<br>mbps=%{y}<extra></extra>\",\"legendgroup\":\"down\",\"line\":{\"color\":\"#636efa\",\"dash\":\"solid\"},\"marker\":{\"symbol\":\"circle\"},\"mode\":\"lines\",\"name\":\"down\",\"orientation\":\"v\",\"showlegend\":true,\"x\":[\"2022-12-14 14:37:57.942271\",\"2022-12-14 14:38:54.485852\",\"2022-12-14 14:39:53.293311\",\"2022-12-14 14:40:49.722342\",\"2022-12-14 14:41:48.841883\",\"2022-12-14 14:42:50.171980\",\"2022-12-14 14:43:48.883573\",\"2022-12-14 14:44:43.582977\",\"2022-12-14 14:46:31.658172\",\"2022-12-14 14:48:22.260758\",\"2022-12-14 14:50:09.207753\",\"2022-12-14 14:53:00.281994\",\"2022-12-14 14:53:59.160388\",\"2022-12-14 14:54:57.464403\",\"2022-12-14 14:55:58.981773\",\"2022-12-14 14:56:54.221177\",\"2022-12-14 14:57:50.879848\",\"2022-12-14 15:01:41.177281\",\"2022-12-14 15:02:34.308525\",\"2022-12-14 15:03:29.782120\",\"2022-12-14 15:05:13.492223\",\"2022-12-14 15:06:10.581215\",\"2022-12-14 15:07:11.931881\",\"2022-12-14 15:08:08.195865\",\"2022-12-14 15:09:53.854341\",\"2022-12-14 15:12:41.979821\",\"2022-12-14 15:13:39.160043\",\"2022-12-14 15:14:34.646104\",\"2022-12-14 15:15:30.579314\",\"2022-12-14 15:16:31.662908\",\"2022-12-14 15:17:33.806507\",\"2022-12-14 15:18:32.001887\",\"2022-12-14 15:19:29.646359\",\"2022-12-14 15:21:17.731927\",\"2022-12-14 15:23:59.321740\",\"2022-12-14 15:24:54.767130\",\"2022-12-14 15:25:54.824599\",\"2022-12-14 15:26:51.824324\",\"2022-12-14 15:27:52.606844\",\"2022-12-14 15:28:54.275903\",\"2022-12-14 15:29:53.427419\",\"2022-12-14 15:32:35.750559\",\"2022-12-15 08:11:59.055473\",\"2022-12-15 08:12:58.047278\",\"2022-12-15 08:13:56.935479\",\"2022-12-15 08:18:29.211547\",\"2022-12-15 08:19:32.391133\",\"2022-12-15 08:21:24.020632\",\"2022-12-15 08:22:18.692697\",\"2022-12-15 08:23:14.922654\",\"2022-12-15 08:25:05.040657\",\"2022-12-15 08:26:03.917443\",\"2022-12-15 08:27:06.887088\",\"2022-12-15 08:28:08.290730\",\"2022-12-15 08:29:59.007790\",\"2022-12-15 08:30:54.370874\",\"2022-12-15 08:31:50.147777\",\"2022-12-15T08:33:37.481846\"],\"xaxis\":\"x\",\"y\":[81.06979199999999,88.520416,88.4078,81.46303999999999,86.41568,72.712744,78.74703199999999,91.335256,75.12865599999999,71.072208,85.982936,73.779456,47.235928,66.28764799999999,72.90776,86.7978,78.313656,67.52108,83.40829599999999,88.32313599999999,74.431936,79.324952,66.953088,79.75748,91.13870399999999,101.286952,104.572424,96.686984,113.36261599999999,82.44473599999999,90.73442399999999,76.59508,88.74112,71.79848,77.13268,88.50775999999999,94.72428,100.936472,92.083424,73.945976,87.90504,81.450272,101.686752,101.504008,71.618928,81.27682399999999,74.73512,99.572952,104.10915999999999,112.34960799999999,95.68765599999999,108.322992,62.718391999999994,83.15356799999999,87.255136,85.101368,82.72933599999999,85.02535999999999],\"yaxis\":\"y\",\"type\":\"scatter\"},{\"hovertemplate\":\"type=up<br>date=%{x}<br>mbps=%{y}<extra></extra>\",\"legendgroup\":\"up\",\"line\":{\"color\":\"#EF553B\",\"dash\":\"solid\"},\"marker\":{\"symbol\":\"circle\"},\"mode\":\"lines\",\"name\":\"up\",\"orientation\":\"v\",\"showlegend\":true,\"x\":[\"2022-12-14 14:37:57.942271\",\"2022-12-14 14:38:54.485852\",\"2022-12-14 14:39:53.293311\",\"2022-12-14 14:40:49.722342\",\"2022-12-14 14:41:48.841883\",\"2022-12-14 14:42:50.171980\",\"2022-12-14 14:43:48.883573\",\"2022-12-14 14:44:43.582977\",\"2022-12-14 14:46:31.658172\",\"2022-12-14 14:48:22.260758\",\"2022-12-14 14:50:09.207753\",\"2022-12-14 14:53:00.281994\",\"2022-12-14 14:53:59.160388\",\"2022-12-14 14:54:57.464403\",\"2022-12-14 14:55:58.981773\",\"2022-12-14 14:56:54.221177\",\"2022-12-14 14:57:50.879848\",\"2022-12-14 15:01:41.177281\",\"2022-12-14 15:02:34.308525\",\"2022-12-14 15:03:29.782120\",\"2022-12-14 15:05:13.492223\",\"2022-12-14 15:06:10.581215\",\"2022-12-14 15:07:11.931881\",\"2022-12-14 15:08:08.195865\",\"2022-12-14 15:09:53.854341\",\"2022-12-14 15:12:41.979821\",\"2022-12-14 15:13:39.160043\",\"2022-12-14 15:14:34.646104\",\"2022-12-14 15:15:30.579314\",\"2022-12-14 15:16:31.662908\",\"2022-12-14 15:17:33.806507\",\"2022-12-14 15:18:32.001887\",\"2022-12-14 15:19:29.646359\",\"2022-12-14 15:21:17.731927\",\"2022-12-14 15:23:59.321740\",\"2022-12-14 15:24:54.767130\",\"2022-12-14 15:25:54.824599\",\"2022-12-14 15:26:51.824324\",\"2022-12-14 15:27:52.606844\",\"2022-12-14 15:28:54.275903\",\"2022-12-14 15:29:53.427419\",\"2022-12-14 15:32:35.750559\",\"2022-12-15 08:11:59.055473\",\"2022-12-15 08:12:58.047278\",\"2022-12-15 08:13:56.935479\",\"2022-12-15 08:18:29.211547\",\"2022-12-15 08:19:32.391133\",\"2022-12-15 08:21:24.020632\",\"2022-12-15 08:22:18.692697\",\"2022-12-15 08:23:14.922654\",\"2022-12-15 08:25:05.040657\",\"2022-12-15 08:26:03.917443\",\"2022-12-15 08:27:06.887088\",\"2022-12-15 08:28:08.290730\",\"2022-12-15 08:29:59.007790\",\"2022-12-15 08:30:54.370874\",\"2022-12-15 08:31:50.147777\",\"2022-12-15T08:33:37.481846\"],\"xaxis\":\"x\",\"y\":[12.858448,32.409376,21.469984,35.681744,29.450999999999997,13.826824,35.096447999999995,8.796248,10.065351999999999,28.092632,28.478704,6.020303999999999,30.685824,13.726816,28.041608,8.99432,16.093176,12.373576,30.682592,31.850839999999998,12.308584,28.943112,13.305703999999999,27.203719999999997,14.244048,34.158336,31.557208,22.748704,24.502959999999998,29.541272,5.769552,25.968207999999997,14.50704,29.948152,13.830255999999999,29.051848,25.326504,27.575608,19.53152,33.26184,24.96012,13.205112,33.212232,18.84552,25.858776,15.037536,20.161687999999998,16.174224,16.714048,37.678616,16.447008,13.93816,20.154664,10.5552,32.562295999999996,17.483672,26.960535999999998,35.555976],\"yaxis\":\"y\",\"type\":\"scatter\"}],                        {\"template\":{\"data\":{\"histogram2dcontour\":[{\"type\":\"histogram2dcontour\",\"colorbar\":{\"outlinewidth\":0,\"ticks\":\"\"},\"colorscale\":[[0.0,\"#0d0887\"],[0.1111111111111111,\"#46039f\"],[0.2222222222222222,\"#7201a8\"],[0.3333333333333333,\"#9c179e\"],[0.4444444444444444,\"#bd3786\"],[0.5555555555555556,\"#d8576b\"],[0.6666666666666666,\"#ed7953\"],[0.7777777777777778,\"#fb9f3a\"],[0.8888888888888888,\"#fdca26\"],[1.0,\"#f0f921\"]]}],\"choropleth\":[{\"type\":\"choropleth\",\"colorbar\":{\"outlinewidth\":0,\"ticks\":\"\"}}],\"histogram2d\":[{\"type\":\"histogram2d\",\"colorbar\":{\"outlinewidth\":0,\"ticks\":\"\"},\"colorscale\":[[0.0,\"#0d0887\"],[0.1111111111111111,\"#46039f\"],[0.2222222222222222,\"#7201a8\"],[0.3333333333333333,\"#9c179e\"],[0.4444444444444444,\"#bd3786\"],[0.5555555555555556,\"#d8576b\"],[0.6666666666666666,\"#ed7953\"],[0.7777777777777778,\"#fb9f3a\"],[0.8888888888888888,\"#fdca26\"],[1.0,\"#f0f921\"]]}],\"heatmap\":[{\"type\":\"heatmap\",\"colorbar\":{\"outlinewidth\":0,\"ticks\":\"\"},\"colorscale\":[[0.0,\"#0d0887\"],[0.1111111111111111,\"#46039f\"],[0.2222222222222222,\"#7201a8\"],[0.3333333333333333,\"#9c179e\"],[0.4444444444444444,\"#bd3786\"],[0.5555555555555556,\"#d8576b\"],[0.6666666666666666,\"#ed7953\"],[0.7777777777777778,\"#fb9f3a\"],[0.8888888888888888,\"#fdca26\"],[1.0,\"#f0f921\"]]}],\"heatmapgl\":[{\"type\":\"heatmapgl\",\"colorbar\":{\"outlinewidth\":0,\"ticks\":\"\"},\"colorscale\":[[0.0,\"#0d0887\"],[0.1111111111111111,\"#46039f\"],[0.2222222222222222,\"#7201a8\"],[0.3333333333333333,\"#9c179e\"],[0.4444444444444444,\"#bd3786\"],[0.5555555555555556,\"#d8576b\"],[0.6666666666666666,\"#ed7953\"],[0.7777777777777778,\"#fb9f3a\"],[0.8888888888888888,\"#fdca26\"],[1.0,\"#f0f921\"]]}],\"contourcarpet\":[{\"type\":\"contourcarpet\",\"colorbar\":{\"outlinewidth\":0,\"ticks\":\"\"}}],\"contour\":[{\"type\":\"contour\",\"colorbar\":{\"outlinewidth\":0,\"ticks\":\"\"},\"colorscale\":[[0.0,\"#0d0887\"],[0.1111111111111111,\"#46039f\"],[0.2222222222222222,\"#7201a8\"],[0.3333333333333333,\"#9c179e\"],[0.4444444444444444,\"#bd3786\"],[0.5555555555555556,\"#d8576b\"],[0.6666666666666666,\"#ed7953\"],[0.7777777777777778,\"#fb9f3a\"],[0.8888888888888888,\"#fdca26\"],[1.0,\"#f0f921\"]]}],\"surface\":[{\"type\":\"surface\",\"colorbar\":{\"outlinewidth\":0,\"ticks\":\"\"},\"colorscale\":[[0.0,\"#0d0887\"],[0.1111111111111111,\"#46039f\"],[0.2222222222222222,\"#7201a8\"],[0.3333333333333333,\"#9c179e\"],[0.4444444444444444,\"#bd3786\"],[0.5555555555555556,\"#d8576b\"],[0.6666666666666666,\"#ed7953\"],[0.7777777777777778,\"#fb9f3a\"],[0.8888888888888888,\"#fdca26\"],[1.0,\"#f0f921\"]]}],\"mesh3d\":[{\"type\":\"mesh3d\",\"colorbar\":{\"outlinewidth\":0,\"ticks\":\"\"}}],\"scatter\":[{\"fillpattern\":{\"fillmode\":\"overlay\",\"size\":10,\"solidity\":0.2},\"type\":\"scatter\"}],\"parcoords\":[{\"type\":\"parcoords\",\"line\":{\"colorbar\":{\"outlinewidth\":0,\"ticks\":\"\"}}}],\"scatterpolargl\":[{\"type\":\"scatterpolargl\",\"marker\":{\"colorbar\":{\"outlinewidth\":0,\"ticks\":\"\"}}}],\"bar\":[{\"error_x\":{\"color\":\"#2a3f5f\"},\"error_y\":{\"color\":\"#2a3f5f\"},\"marker\":{\"line\":{\"color\":\"#E5ECF6\",\"width\":0.5},\"pattern\":{\"fillmode\":\"overlay\",\"size\":10,\"solidity\":0.2}},\"type\":\"bar\"}],\"scattergeo\":[{\"type\":\"scattergeo\",\"marker\":{\"colorbar\":{\"outlinewidth\":0,\"ticks\":\"\"}}}],\"scatterpolar\":[{\"type\":\"scatterpolar\",\"marker\":{\"colorbar\":{\"outlinewidth\":0,\"ticks\":\"\"}}}],\"histogram\":[{\"marker\":{\"pattern\":{\"fillmode\":\"overlay\",\"size\":10,\"solidity\":0.2}},\"type\":\"histogram\"}],\"scattergl\":[{\"type\":\"scattergl\",\"marker\":{\"colorbar\":{\"outlinewidth\":0,\"ticks\":\"\"}}}],\"scatter3d\":[{\"type\":\"scatter3d\",\"line\":{\"colorbar\":{\"outlinewidth\":0,\"ticks\":\"\"}},\"marker\":{\"colorbar\":{\"outlinewidth\":0,\"ticks\":\"\"}}}],\"scattermapbox\":[{\"type\":\"scattermapbox\",\"marker\":{\"colorbar\":{\"outlinewidth\":0,\"ticks\":\"\"}}}],\"scatterternary\":[{\"type\":\"scatterternary\",\"marker\":{\"colorbar\":{\"outlinewidth\":0,\"ticks\":\"\"}}}],\"scattercarpet\":[{\"type\":\"scattercarpet\",\"marker\":{\"colorbar\":{\"outlinewidth\":0,\"ticks\":\"\"}}}],\"carpet\":[{\"aaxis\":{\"endlinecolor\":\"#2a3f5f\",\"gridcolor\":\"white\",\"linecolor\":\"white\",\"minorgridcolor\":\"white\",\"startlinecolor\":\"#2a3f5f\"},\"baxis\":{\"endlinecolor\":\"#2a3f5f\",\"gridcolor\":\"white\",\"linecolor\":\"white\",\"minorgridcolor\":\"white\",\"startlinecolor\":\"#2a3f5f\"},\"type\":\"carpet\"}],\"table\":[{\"cells\":{\"fill\":{\"color\":\"#EBF0F8\"},\"line\":{\"color\":\"white\"}},\"header\":{\"fill\":{\"color\":\"#C8D4E3\"},\"line\":{\"color\":\"white\"}},\"type\":\"table\"}],\"barpolar\":[{\"marker\":{\"line\":{\"color\":\"#E5ECF6\",\"width\":0.5},\"pattern\":{\"fillmode\":\"overlay\",\"size\":10,\"solidity\":0.2}},\"type\":\"barpolar\"}],\"pie\":[{\"automargin\":true,\"type\":\"pie\"}]},\"layout\":{\"autotypenumbers\":\"strict\",\"colorway\":[\"#636efa\",\"#EF553B\",\"#00cc96\",\"#ab63fa\",\"#FFA15A\",\"#19d3f3\",\"#FF6692\",\"#B6E880\",\"#FF97FF\",\"#FECB52\"],\"font\":{\"color\":\"#2a3f5f\"},\"hovermode\":\"closest\",\"hoverlabel\":{\"align\":\"left\"},\"paper_bgcolor\":\"white\",\"plot_bgcolor\":\"#E5ECF6\",\"polar\":{\"bgcolor\":\"#E5ECF6\",\"angularaxis\":{\"gridcolor\":\"white\",\"linecolor\":\"white\",\"ticks\":\"\"},\"radialaxis\":{\"gridcolor\":\"white\",\"linecolor\":\"white\",\"ticks\":\"\"}},\"ternary\":{\"bgcolor\":\"#E5ECF6\",\"aaxis\":{\"gridcolor\":\"white\",\"linecolor\":\"white\",\"ticks\":\"\"},\"baxis\":{\"gridcolor\":\"white\",\"linecolor\":\"white\",\"ticks\":\"\"},\"caxis\":{\"gridcolor\":\"white\",\"linecolor\":\"white\",\"ticks\":\"\"}},\"coloraxis\":{\"colorbar\":{\"outlinewidth\":0,\"ticks\":\"\"}},\"colorscale\":{\"sequential\":[[0.0,\"#0d0887\"],[0.1111111111111111,\"#46039f\"],[0.2222222222222222,\"#7201a8\"],[0.3333333333333333,\"#9c179e\"],[0.4444444444444444,\"#bd3786\"],[0.5555555555555556,\"#d8576b\"],[0.6666666666666666,\"#ed7953\"],[0.7777777777777778,\"#fb9f3a\"],[0.8888888888888888,\"#fdca26\"],[1.0,\"#f0f921\"]],\"sequentialminus\":[[0.0,\"#0d0887\"],[0.1111111111111111,\"#46039f\"],[0.2222222222222222,\"#7201a8\"],[0.3333333333333333,\"#9c179e\"],[0.4444444444444444,\"#bd3786\"],[0.5555555555555556,\"#d8576b\"],[0.6666666666666666,\"#ed7953\"],[0.7777777777777778,\"#fb9f3a\"],[0.8888888888888888,\"#fdca26\"],[1.0,\"#f0f921\"]],\"diverging\":[[0,\"#8e0152\"],[0.1,\"#c51b7d\"],[0.2,\"#de77ae\"],[0.3,\"#f1b6da\"],[0.4,\"#fde0ef\"],[0.5,\"#f7f7f7\"],[0.6,\"#e6f5d0\"],[0.7,\"#b8e186\"],[0.8,\"#7fbc41\"],[0.9,\"#4d9221\"],[1,\"#276419\"]]},\"xaxis\":{\"gridcolor\":\"white\",\"linecolor\":\"white\",\"ticks\":\"\",\"title\":{\"standoff\":15},\"zerolinecolor\":\"white\",\"automargin\":true,\"zerolinewidth\":2},\"yaxis\":{\"gridcolor\":\"white\",\"linecolor\":\"white\",\"ticks\":\"\",\"title\":{\"standoff\":15},\"zerolinecolor\":\"white\",\"automargin\":true,\"zerolinewidth\":2},\"scene\":{\"xaxis\":{\"backgroundcolor\":\"#E5ECF6\",\"gridcolor\":\"white\",\"linecolor\":\"white\",\"showbackground\":true,\"ticks\":\"\",\"zerolinecolor\":\"white\",\"gridwidth\":2},\"yaxis\":{\"backgroundcolor\":\"#E5ECF6\",\"gridcolor\":\"white\",\"linecolor\":\"white\",\"showbackground\":true,\"ticks\":\"\",\"zerolinecolor\":\"white\",\"gridwidth\":2},\"zaxis\":{\"backgroundcolor\":\"#E5ECF6\",\"gridcolor\":\"white\",\"linecolor\":\"white\",\"showbackground\":true,\"ticks\":\"\",\"zerolinecolor\":\"white\",\"gridwidth\":2}},\"shapedefaults\":{\"line\":{\"color\":\"#2a3f5f\"}},\"annotationdefaults\":{\"arrowcolor\":\"#2a3f5f\",\"arrowhead\":0,\"arrowwidth\":1},\"geo\":{\"bgcolor\":\"white\",\"landcolor\":\"#E5ECF6\",\"subunitcolor\":\"white\",\"showland\":true,\"showlakes\":true,\"lakecolor\":\"white\"},\"title\":{\"x\":0.05},\"mapbox\":{\"style\":\"light\"}}},\"xaxis\":{\"anchor\":\"y\",\"domain\":[0.0,1.0],\"title\":{\"text\":\"date\"}},\"yaxis\":{\"anchor\":\"x\",\"domain\":[0.0,1.0],\"title\":{\"text\":\"mbps\"}},\"legend\":{\"title\":{\"text\":\"type\"},\"tracegroupgap\":0},\"margin\":{\"t\":60}},                        {\"responsive\": true}                    ).then(function(){\n",
       "                            \n",
       "var gd = document.getElementById('fac17f02-cb24-4267-bdbd-f3c75ef99f03');\n",
       "var x = new MutationObserver(function (mutations, observer) {{\n",
       "        var display = window.getComputedStyle(gd).display;\n",
       "        if (!display || display === 'none') {{\n",
       "            console.log([gd, 'removed!']);\n",
       "            Plotly.purge(gd);\n",
       "            observer.disconnect();\n",
       "        }}\n",
       "}});\n",
       "\n",
       "// Listen for the removal of the full notebook cells\n",
       "var notebookContainer = gd.closest('#notebook-container');\n",
       "if (notebookContainer) {{\n",
       "    x.observe(notebookContainer, {childList: true});\n",
       "}}\n",
       "\n",
       "// Listen for the clearing of the current output cell\n",
       "var outputEl = gd.closest('.output');\n",
       "if (outputEl) {{\n",
       "    x.observe(outputEl, {childList: true});\n",
       "}}\n",
       "\n",
       "                        })                };                });            </script>        </div>"
      ]
     },
     "metadata": {},
     "output_type": "display_data"
    },
    {
     "name": "stdout",
     "output_type": "stream",
     "text": [
      "           download        upload\n",
      "count  5.800000e+01  5.800000e+01\n",
      "mean   1.059654e+07  2.787684e+06\n",
      "std    1.602710e+06  1.102396e+06\n",
      "min    5.904491e+06  7.211940e+05\n",
      "25%    9.436908e+06  1.751829e+06\n",
      "50%    1.052710e+07  2.953229e+06\n",
      "75%    1.141076e+07  3.689838e+06\n",
      "max    1.417033e+07  4.709827e+06\n",
      "25 ) 2022-12-15 08:34:07.553325\n",
      "Testing\n"
     ]
    }
   ],
   "source": [
    "wait = 0.5 # min\n",
    "loops = 60\n",
    "\n",
    "for i in range(loops):\n",
    "    print(i+1, \")\", dt.datetime.now())\n",
    "\n",
    "    data_df = run_speedtest(speedtest_name, options)\n",
    "    if data_df is None:\n",
    "        print(\"No results returned\")\n",
    "    else:\n",
    "        history_df = update_history_df(data_df, history_file)\n",
    "    \n",
    "    if i < loops:\n",
    "        clear_output(wait=False)\n",
    "        print(f\"{i+1}/{loops} -- Waiting for {wait*60} seconds\")\n",
    "        time.sleep(wait * 60)\n",
    "\n",
    "    show_updated_speed(history_df)\n",
    "\n",
    "print(\"Done\")"
   ]
  },
  {
   "cell_type": "markdown",
   "id": "4fdd154f-04fb-448f-ae35-d65d0c9968ec",
   "metadata": {},
   "source": [
    "### Rechart"
   ]
  },
  {
   "cell_type": "code",
   "execution_count": null,
   "id": "61ca9d7f-49a6-4006-a87d-f24aeceef07e",
   "metadata": {},
   "outputs": [],
   "source": [
    "# show_updated_speed(history_df)"
   ]
  }
 ],
 "metadata": {
  "kernelspec": {
   "display_name": "Python 3 (ipykernel)",
   "language": "python",
   "name": "python3"
  },
  "language_info": {
   "codemirror_mode": {
    "name": "ipython",
    "version": 3
   },
   "file_extension": ".py",
   "mimetype": "text/x-python",
   "name": "python",
   "nbconvert_exporter": "python",
   "pygments_lexer": "ipython3",
   "version": "3.8.13"
  }
 },
 "nbformat": 4,
 "nbformat_minor": 5
}
